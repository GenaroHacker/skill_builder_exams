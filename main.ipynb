{
  "cells": [
    {
      "cell_type": "markdown",
      "metadata": {
        "id": "view-in-github",
        "colab_type": "text"
      },
      "source": [
        "<a href=\"https://colab.research.google.com/github/GenaroHacker/skill_builder_exams/blob/main/main.ipynb\" target=\"_parent\"><img src=\"https://colab.research.google.com/assets/colab-badge.svg\" alt=\"Open In Colab\"/></a>"
      ]
    },
    {
      "cell_type": "code",
      "source": [
        "#@title import\n",
        "%%capture\n",
        "!git clone https://github.com/GenaroHacker/skill_builder_exams.git\n",
        "\n",
        "from skill_builder_exams.sql import insert_exam\n",
        "from skill_builder_exams.sql import read_all_exams\n",
        "from skill_builder_exams.sql import delete_exam\n",
        "from skill_builder_exams.sql import delete_all_exams\n",
        "from skill_builder_exams.practice import practice"
      ],
      "metadata": {
        "id": "4ezuSf9nHz-5"
      },
      "execution_count": 1,
      "outputs": []
    },
    {
      "cell_type": "code",
      "source": [
        "#@title practice\n",
        "#delete_exam(\"python\")\n",
        "#delete_all_exams()\n",
        "#insert_exam(\"your_exam_here\",\"example_tag\",{\"1 + 1\":\"2\"})\n",
        "practice(read_all_exams([\"python\",\"guitar\"]))"
      ],
      "metadata": {
        "colab": {
          "base_uri": "https://localhost:8080/"
        },
        "id": "l0wXDCXjNFkn",
        "outputId": "3eaabe60-f3f2-4297-8449-3930057fcde6"
      },
      "execution_count": 3,
      "outputs": [
        {
          "output_type": "stream",
          "name": "stdout",
          "text": [
            "There are 3 exams.\n",
            "Do you want to practice python? (y/n) 5 questions.\n",
            "n\n",
            "Skipping ---python---\n",
            "Do you want to practice pyhton_2? (y/n) 5 questions.\n",
            "n\n",
            "Skipping ---pyhton_2---\n",
            "Do you want to practice music_intervals? (y/n) 612 questions.\n",
            "n\n",
            "Skipping ---music_intervals---\n"
          ]
        }
      ]
    }
  ],
  "metadata": {
    "colab": {
      "provenance": [],
      "authorship_tag": "ABX9TyOQJqlbN2YNuHlv/G7bJ2mh",
      "include_colab_link": true
    },
    "kernelspec": {
      "display_name": "Python 3",
      "name": "python3"
    },
    "language_info": {
      "name": "python"
    }
  },
  "nbformat": 4,
  "nbformat_minor": 0
}