{
  "cells": [
    {
      "cell_type": "markdown",
      "metadata": {
        "id": "view-in-github",
        "colab_type": "text"
      },
      "source": [
        "<a href=\"https://colab.research.google.com/github/GenaroHacker/skill_builder_exams/blob/main/main.ipynb\" target=\"_parent\"><img src=\"https://colab.research.google.com/assets/colab-badge.svg\" alt=\"Open In Colab\"/></a>"
      ]
    },
    {
      "cell_type": "code",
      "source": [
        "#@title Set Up\n",
        "%%capture\n",
        "!git clone https://github.com/GenaroHacker/skill_builder_exams.git\n",
        "\n",
        "from skill_builder_exams.sql import insert_exam\n",
        "from skill_builder_exams.sql import read_all_exams\n",
        "from skill_builder_exams.sql import delete_exam\n",
        "from skill_builder_exams.sql import delete_all_exams\n",
        "from skill_builder_exams.sql import print_all_exams\n",
        "from skill_builder_exams.practice import practice"
      ],
      "metadata": {
        "id": "4ezuSf9nHz-5",
        "cellView": "form"
      },
      "execution_count": 1,
      "outputs": []
    },
    {
      "cell_type": "code",
      "source": [
        "#@title Practice\n",
        "#delete_exam(\"python\")\n",
        "#delete_all_exams()\n",
        "insert_exam(\"your_exam_here\",\"example_tag\",{\"1 + 1\":\"2\", \"1 - 1\":\"0\"})\n",
        "print_all_exams()\n",
        "practice([\"example_tag\",\"sql\"]) # Filter exams by tag"
      ],
      "metadata": {
        "colab": {
          "base_uri": "https://localhost:8080/"
        },
        "id": "l0wXDCXjNFkn",
        "outputId": "7bc70d9f-6eef-4d3f-daba-296f7e49e891",
        "cellView": "form"
      },
      "execution_count": 6,
      "outputs": [
        {
          "output_type": "stream",
          "name": "stdout",
          "text": [
            "EXAM            TAG             QUESTIONS \n",
            "----------------------------------------\n",
            "python          python          5         \n",
            "bash            bash            5         \n",
            "crud            sql             4         \n",
            "oop             programming     5         \n",
            "python_2        python          5         \n",
            "music_intervals guitar          25        \n",
            "semitones       guitar          26        \n",
            "docker_basics   docker          8         \n",
            "your_exam_here  example_tag     2         \n",
            "\n",
            "2 exams selected.\n",
            "\n",
            "Do you want to practice crud? (y/n) 4 questions.\n",
            "y\n",
            "Practicing ---crud---\n",
            " ---->  Adding new data to a database?\n",
            " <---- create\n",
            " -->  ✔\n",
            "\n",
            " ---->  Modifying existing data in a database?\n",
            " <---- update\n",
            " -->  ✔\n",
            "\n",
            " ---->  Removing data from a database?\n",
            " <---- delete\n",
            " -->  ✔\n",
            "\n",
            " ---->  Retrieving existing data from a database?\n",
            " <---- read\n",
            " -->  ✔\n",
            "\n",
            "\n",
            "-------------------------------------------------------------------------\n",
            "crud test finished.\n",
            "Your score in the first round was: 4/4\n",
            "Time taken: 0 minutes and 12 seconds\n",
            "-------------------------------------------------------------------------\n",
            "\n",
            "\n",
            "Do you want to practice your_exam_here? (y/n) 2 questions.\n",
            "n\n",
            "Skipping ---your_exam_here---\n",
            "\n"
          ]
        }
      ]
    }
  ],
  "metadata": {
    "colab": {
      "provenance": [],
      "authorship_tag": "ABX9TyP63HHpqrNXoKt5v7cf+JJJ",
      "include_colab_link": true
    },
    "kernelspec": {
      "display_name": "Python 3",
      "name": "python3"
    },
    "language_info": {
      "name": "python"
    }
  },
  "nbformat": 4,
  "nbformat_minor": 0
}