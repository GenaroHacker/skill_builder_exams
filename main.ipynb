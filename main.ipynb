{
  "cells": [
    {
      "cell_type": "markdown",
      "metadata": {
        "id": "view-in-github",
        "colab_type": "text"
      },
      "source": [
        "<a href=\"https://colab.research.google.com/github/GenaroHacker/skill_builder_exams/blob/main/main.ipynb\" target=\"_parent\"><img src=\"https://colab.research.google.com/assets/colab-badge.svg\" alt=\"Open In Colab\"/></a>"
      ]
    },
    {
      "cell_type": "code",
      "source": [
        "#@title import\n",
        "%%capture\n",
        "!git clone https://github.com/GenaroHacker/skill_builder_exams.git\n",
        "from skill_builder_exams.exam import Exam\n",
        "from skill_builder_exams.practice import practice"
      ],
      "metadata": {
        "id": "4ezuSf9nHz-5",
        "cellView": "form"
      },
      "execution_count": 4,
      "outputs": []
    },
    {
      "cell_type": "code",
      "source": [
        "#@title practice\n",
        "\n",
        "\n",
        "CRUD = {'Adding new data to a database': 'Create',\n",
        "'Retrieving existing data from a database': 'Read',\n",
        "'Modifying existing data in a database': 'Update',\n",
        "'Removing data from a database': 'Delete'}\n",
        "BASH = {'Prints the current working directory': 'pwd',\n",
        " 'Lists the contents of a directory': 'ls',\n",
        " 'Changes the current directory': 'cd',\n",
        " 'Creates an empty file': 'touch',\n",
        " 'Displays the contents of a file': 'cat'}\n",
        "OOP = {\n",
        "    'Focusing only on the essential features of an object or a class while ignoring the unnecessary details': 'Abstraction',\n",
        "    'Bundling the data and the functions that manipulate the data within a single unit, which is known as a class': 'Encapsulation',\n",
        "    'Allows a new class to be based on an existing class, inheriting its properties and methods': 'Inheritance',\n",
        "    'Refers to the ability of an object to take on different forms or behaviors depending on the context in which it is used': 'Polymorphism',\n",
        "    'A blueprint or a template for creating objects that defines a set of properties and methods that are common to all objects of that class': 'Class'\n",
        "}\n",
        "PYTHON_BASICS = {\n",
        "'A built-in Python function to calculate the length of a string or a list': 'len',\n",
        "'Used to create a comment in Python': '#',\n",
        "'A data type in Python that stores an ordered sequence of values': 'List',\n",
        "'A Python keyword used to create a loop that iterates over a sequence': 'for',\n",
        "'A Python keyword used to define a user-defined function': 'def'\n",
        "}\n",
        "\n",
        "EMPTY = {}\n",
        "\n",
        "exams = [\n",
        "    Exam(\n",
        "        CRUD,\n",
        "        \"CRUD\"\n",
        "    ),\n",
        "    Exam(\n",
        "        BASH,\n",
        "        \"Bash\"\n",
        "    ),\n",
        "    Exam(\n",
        "        OOP,\n",
        "        \"OOP\"\n",
        "    ),\n",
        "    Exam(\n",
        "        PYTHON_BASICS,\n",
        "        \"Python Basics\"\n",
        "    ),\n",
        "    Exam(\n",
        "        EMPTY,\n",
        "        \"Your title here\"\n",
        "    )\n",
        "]\n",
        "\n",
        "\n",
        "\n",
        "practice(exams)\n",
        "\n"
      ],
      "metadata": {
        "colab": {
          "base_uri": "https://localhost:8080/"
        },
        "id": "l0wXDCXjNFkn",
        "outputId": "89385a43-ee3e-4125-9460-49b12f96a23f",
        "cellView": "form"
      },
      "execution_count": 5,
      "outputs": [
        {
          "output_type": "stream",
          "name": "stdout",
          "text": [
            "There are 5 exams.\n",
            "Do you want to practice Bash? (y/n) 5 questions.\n",
            "n\n",
            "Skipping ---Bash---\n",
            "Do you want to practice Your title here? (y/n) 0 questions.\n",
            "n\n",
            "Skipping ---Your title here---\n",
            "Do you want to practice Python Basics? (y/n) 5 questions.\n",
            "n\n",
            "Skipping ---Python Basics---\n",
            "Do you want to practice OOP? (y/n) 5 questions.\n",
            "n\n",
            "Skipping ---OOP---\n",
            "Do you want to practice CRUD? (y/n) 4 questions.\n",
            "n\n",
            "Skipping ---CRUD---\n"
          ]
        }
      ]
    }
  ],
  "metadata": {
    "colab": {
      "provenance": [],
      "authorship_tag": "ABX9TyOC8FXlyEbiWszAfQXEWAR4",
      "include_colab_link": true
    },
    "kernelspec": {
      "display_name": "Python 3",
      "name": "python3"
    },
    "language_info": {
      "name": "python"
    }
  },
  "nbformat": 4,
  "nbformat_minor": 0
}