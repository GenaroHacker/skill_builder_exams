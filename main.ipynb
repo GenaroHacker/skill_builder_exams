{
  "cells": [
    {
      "cell_type": "markdown",
      "metadata": {
        "id": "view-in-github",
        "colab_type": "text"
      },
      "source": [
        "<a href=\"https://colab.research.google.com/github/GenaroHacker/skill_builder_exams/blob/main/main.ipynb\" target=\"_parent\"><img src=\"https://colab.research.google.com/assets/colab-badge.svg\" alt=\"Open In Colab\"/></a>"
      ]
    },
    {
      "cell_type": "code",
      "source": [
        "!git clone https://github.com/GenaroHacker/skill_builder_exams.git"
      ],
      "metadata": {
        "id": "4ezuSf9nHz-5",
        "colab": {
          "base_uri": "https://localhost:8080/"
        },
        "outputId": "1b5ee2f7-b190-4953-efbc-94de2aac1f26"
      },
      "execution_count": 1,
      "outputs": [
        {
          "output_type": "stream",
          "name": "stdout",
          "text": [
            "Cloning into 'skill_builder_exams'...\n",
            "remote: Enumerating objects: 49, done.\u001b[K\n",
            "remote: Counting objects: 100% (49/49), done.\u001b[K\n",
            "remote: Compressing objects: 100% (45/45), done.\u001b[K\n",
            "remote: Total 49 (delta 20), reused 6 (delta 0), pack-reused 0\u001b[K\n",
            "Unpacking objects: 100% (49/49), 14.22 KiB | 441.00 KiB/s, done.\n"
          ]
        }
      ]
    },
    {
      "cell_type": "code",
      "source": [
        "from skill_builder_exams.exam import Exam\n",
        "\n",
        "CRUD = {'Adding new data to a database': 'Create',\n",
        "'Retrieving existing data from a database': 'Read',\n",
        "'Modifying existing data in a database': 'Update',\n",
        "'Removing data from a database': 'Delete'}\n",
        "BASH = {'Prints the current working directory': 'pwd',\n",
        " 'Lists the contents of a directory': 'ls',\n",
        " 'Changes the current directory': 'cd',\n",
        " 'Creates an empty file': 'touch',\n",
        " 'Displays the contents of a file': 'cat'}\n",
        "OOP = {\n",
        "    'Focusing only on the essential features of an object or a class while ignoring the unnecessary details': 'Abstraction',\n",
        "    'Bundling the data and the functions that manipulate the data within a single unit, which is known as a class': 'Encapsulation',\n",
        "    'Allows a new class to be based on an existing class, inheriting its properties and methods': 'Inheritance',\n",
        "    'Refers to the ability of an object to take on different forms or behaviors depending on the context in which it is used': 'Polymorphism',\n",
        "    'A blueprint or a template for creating objects that defines a set of properties and methods that are common to all objects of that class': 'Class'\n",
        "}\n",
        "PYTHON_BASICS = {\n",
        "'A built-in Python function to calculate the length of a string or a list': 'len',\n",
        "'Used to create a comment in Python': '# (hash symbol)',\n",
        "'A data type in Python that stores an ordered sequence of values': 'List',\n",
        "'A Python keyword used to create a loop that iterates over a sequence': 'for',\n",
        "'A Python keyword used to define a user-defined function': 'def'\n",
        "}\n",
        "\n",
        "EMPTY = {}\n",
        "\n",
        "exams = [\n",
        "    Exam(\n",
        "        CRUD,\n",
        "        \"CRUD\"\n",
        "    ),\n",
        "    Exam(\n",
        "        BASH,\n",
        "        \"Bash\"\n",
        "    ),\n",
        "    Exam(\n",
        "        OOP,\n",
        "        \"OOP\"\n",
        "    ),\n",
        "    Exam(\n",
        "        PYTHON_BASICS,\n",
        "        \"Python Basics\"\n",
        "    ),\n",
        "    Exam(\n",
        "        EMPTY,\n",
        "        \"Your title here\"\n",
        "    )\n",
        "]\n",
        "\n",
        "\n",
        "print(\"There are \" + str(len(exams)) + \" exams.\")\n",
        "import random\n",
        "random.shuffle(exams)\n",
        "for exam in exams:\n",
        "    response = input(\"Do you want to practice \" + exam.exam_description + \"? (y/n) \")\n",
        "    if response.lower() == \"y\":\n",
        "        print(\"Practicing ---\" + exam.exam_description + \"---\")\n",
        "        exam.practice_row()\n",
        "    else:\n",
        "        print(\"Skipping ---\" + exam.exam_description + \"---\")\n",
        "\n"
      ],
      "metadata": {
        "colab": {
          "base_uri": "https://localhost:8080/"
        },
        "id": "l0wXDCXjNFkn",
        "outputId": "e6a018ab-f77c-4b72-da47-01584d10c41a"
      },
      "execution_count": 6,
      "outputs": [
        {
          "output_type": "stream",
          "name": "stdout",
          "text": [
            "There are 5 exams.\n",
            "Do you want to practice Your title here? (y/n) y\n",
            "Practicing ---Your title here---\n",
            "Do you want to practice CRUD? (y/n) y\n",
            "Practicing ---CRUD---\n",
            "---->  Adding new data to a database?\n",
            "? create\n",
            "✔\n",
            "\n",
            "---->  Modifying existing data in a database?\n",
            "? update\n",
            "✔\n",
            "\n",
            "---->  Removing data from a database?\n",
            "? delete\n",
            "✔\n",
            "\n",
            "---->  Retrieving existing data from a database?\n",
            "? read\n",
            "✔\n",
            "\n",
            "\n",
            "-------------------------------------------------------------------------\n",
            "Your score is: 4/4\n",
            "-------------------------------------------------------------------------\n",
            "\n",
            "Do you want to practice Bash? (y/n) y\n",
            "Practicing ---Bash---\n",
            "---->  Creates an empty file?\n",
            "? touch\n",
            "✔\n",
            "\n",
            "---->  Changes the current directory?\n",
            "? cd\n",
            "✔\n",
            "\n",
            "---->  Prints the current working directory?\n",
            "? pwd\n",
            "✔\n",
            "\n",
            "---->  Lists the contents of a directory?\n",
            "? ls\n",
            "✔\n",
            "\n",
            "---->  Displays the contents of a file?\n",
            "? cat\n",
            "✔\n",
            "\n",
            "\n",
            "-------------------------------------------------------------------------\n",
            "Your score is: 5/5\n",
            "-------------------------------------------------------------------------\n",
            "\n",
            "Do you want to practice OOP? (y/n) n\n",
            "Skipping ---OOP---\n",
            "Do you want to practice Python Basics? (y/n) y\n",
            "Practicing ---Python Basics---\n",
            "---->  A Python keyword used to create a loop that iterates over a sequence?\n",
            "? for\n",
            "✔\n",
            "\n",
            "---->  A data type in Python that stores an ordered sequence of values?\n",
            "? list\n",
            "✔\n",
            "\n",
            "---->  Used to create a comment in Python?\n",
            "? #\n",
            "✘\n",
            "The correct answer is -->  # (HASH SYMBOL)\n",
            "---->  Used to create a comment in Python\n",
            "? # (hash symbol)\n",
            "\n",
            "---->  A Python keyword used to define a user-defined function?\n",
            "? def\n",
            "✔\n",
            "\n",
            "---->  A built-in Python function to calculate the length of a string or a list?\n",
            "? len\n",
            "✔\n",
            "\n",
            "\n",
            "-------------------------------------------------------------------------\n",
            "Your score is: 4/5\n",
            "-------------------------------------------------------------------------\n",
            "\n",
            "---->  Used to create a comment in Python?\n",
            "? # (hash symbol)\n",
            "✔\n",
            "\n",
            "\n",
            "-------------------------------------------------------------------------\n",
            "Your score is: 1/1\n",
            "-------------------------------------------------------------------------\n",
            "\n"
          ]
        }
      ]
    }
  ],
  "metadata": {
    "colab": {
      "provenance": [],
      "authorship_tag": "ABX9TyNPdZDFMJVdQeN6xBovy3FM",
      "include_colab_link": true
    },
    "kernelspec": {
      "display_name": "Python 3",
      "name": "python3"
    },
    "language_info": {
      "name": "python"
    }
  },
  "nbformat": 4,
  "nbformat_minor": 0
}