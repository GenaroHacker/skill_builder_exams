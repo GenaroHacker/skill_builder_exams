{
  "cells": [
    {
      "cell_type": "markdown",
      "metadata": {
        "id": "view-in-github",
        "colab_type": "text"
      },
      "source": [
        "<a href=\"https://colab.research.google.com/github/GenaroHacker/skill_builder_exams/blob/main/main.ipynb\" target=\"_parent\"><img src=\"https://colab.research.google.com/assets/colab-badge.svg\" alt=\"Open In Colab\"/></a>"
      ]
    },
    {
      "cell_type": "code",
      "source": [
        "#@title import\n",
        "%%capture\n",
        "!git clone https://github.com/GenaroHacker/skill_builder_exams.git\n",
        "from skill_builder_exams.exam import Exam\n",
        "from skill_builder_exams.practice import practice\n",
        "\n",
        "\n",
        "from skill_builder_exams.sql import insert_dict_records\n",
        "\n",
        "from skill_builder_exams.sql import read_records_as_dict"
      ],
      "metadata": {
        "id": "4ezuSf9nHz-5"
      },
      "execution_count": null,
      "outputs": []
    },
    {
      "cell_type": "code",
      "source": [
        "#@title practice\n",
        "#exams = example_exams()\n",
        "#practice(exams)\n",
        "\n",
        "import sqlite3\n",
        "# Sample data as a Python dictionary\n",
        "bash_exam_data = {\n",
        "    \"What is the command to list files in a directory?\": \"ls\",\n",
        "    \"How do you create a new directory?\": \"mkdir\",\n",
        "    \"How do you change the current directory?\": \"cd\"\n",
        "}\n",
        "\n",
        "# Insert the data from the dictionary into the 'bash' table in the 'exams.db' database\n",
        "insert_dict_records(\"exams.db\", \"bash\", bash_exam_data)\n",
        "\n",
        "# Read the data from the 'bash' table in the 'exams.db' database and store it in a Python dictionary\n",
        "bash_exam_data = read_records_as_dict(\"exams.db\", \"bash\")\n",
        "\n",
        "# Print the Python dictionary\n",
        "print(bash_exam_data)\n",
        "\n",
        "\n",
        "\n",
        "exams = [\n",
        "    Exam(\n",
        "        bash_exam_data,\n",
        "        \"bash\"\n",
        "    )\n",
        "]\n",
        "practice(exams)\n"
      ],
      "metadata": {
        "colab": {
          "base_uri": "https://localhost:8080/"
        },
        "id": "l0wXDCXjNFkn",
        "outputId": "535a6813-0954-4c9c-e7d3-a1341ab9ac72"
      },
      "execution_count": null,
      "outputs": [
        {
          "output_type": "stream",
          "name": "stdout",
          "text": [
            "None\n",
            "{'What is the command to list files in a directory?': 'ls', 'How do you create a new directory?': 'mkdir', 'How do you change the current directory?': 'cd'}\n",
            "There are 1 exams.\n",
            "Do you want to practice bash? (y/n) 3 questions.\n",
            "y\n",
            "Practicing ---bash---\n",
            "---->  How do you change the current directory??\n",
            "? cd\n",
            "✔\n",
            "\n",
            "---->  How do you create a new directory??\n",
            "? mkdir\n",
            "✔\n",
            "\n",
            "---->  What is the command to list files in a directory??\n",
            "? ls\n",
            "✔\n",
            "\n",
            "\n",
            "-------------------------------------------------------------------------\n",
            "Your score is: 3/3\n",
            "-------------------------------------------------------------------------\n",
            "\n"
          ]
        }
      ]
    }
  ],
  "metadata": {
    "colab": {
      "provenance": [],
      "authorship_tag": "ABX9TyPjPzL3G1YyGcToFbbHOASh",
      "include_colab_link": true
    },
    "kernelspec": {
      "display_name": "Python 3",
      "name": "python3"
    },
    "language_info": {
      "name": "python"
    }
  },
  "nbformat": 4,
  "nbformat_minor": 0
}