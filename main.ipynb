{
  "cells": [
    {
      "cell_type": "markdown",
      "metadata": {
        "id": "view-in-github",
        "colab_type": "text"
      },
      "source": [
        "<a href=\"https://colab.research.google.com/github/GenaroHacker/skill_builder_exams/blob/main/main.ipynb\" target=\"_parent\"><img src=\"https://colab.research.google.com/assets/colab-badge.svg\" alt=\"Open In Colab\"/></a>"
      ]
    },
    {
      "cell_type": "code",
      "source": [
        "#@title import\n",
        "%%capture\n",
        "!git clone https://github.com/GenaroHacker/skill_builder_exams.git\n",
        "\n",
        "from skill_builder_exams.sql import insert_exam\n",
        "from skill_builder_exams.sql import read_all_exams\n",
        "from skill_builder_exams.sql import delete_exam\n",
        "from skill_builder_exams.sql import delete_all_exams\n",
        "from skill_builder_exams.practice import practice"
      ],
      "metadata": {
        "id": "4ezuSf9nHz-5"
      },
      "execution_count": 1,
      "outputs": []
    },
    {
      "cell_type": "code",
      "source": [
        "#@title practice\n",
        "#delete_exam(\"python\")\n",
        "#delete_all_exams()\n",
        "#insert_exam(\"your_exam_here\",\"example_tag\",{\"1 + 1\":\"2\"})\n",
        "practice(read_all_exams())"
      ],
      "metadata": {
        "colab": {
          "base_uri": "https://localhost:8080/"
        },
        "id": "l0wXDCXjNFkn",
        "outputId": "bfcddfcb-29da-43e1-c13a-85b6014ad852"
      },
      "execution_count": 2,
      "outputs": [
        {
          "output_type": "stream",
          "name": "stdout",
          "text": [
            "There are 5 exams.\n",
            "Do you want to practice bash? (y/n) 5 questions.\n",
            "n\n",
            "Skipping ---bash---\n",
            "Do you want to practice oop? (y/n) 5 questions.\n",
            "n\n",
            "Skipping ---oop---\n",
            "Do you want to practice music_intervals? (y/n) 612 questions.\n",
            "n\n",
            "Skipping ---music_intervals---\n",
            "Do you want to practice crud? (y/n) 4 questions.\n",
            "y\n",
            "Practicing ---crud---\n",
            " ---->  Adding new data to a database?\n",
            " <---- create\n",
            "✔\n",
            "\n",
            " ---->  Retrieving existing data from a database?\n",
            " <---- read\n",
            "✔\n",
            "\n",
            " ---->  Removing data from a database?\n",
            " <---- delete\n",
            "✔\n",
            "\n",
            " ---->  Modifying existing data in a database?\n",
            " <---- upppp\n",
            "✘\n",
            "The correct answer is -->  UPDATE\n",
            "---->  Modifying existing data in a database\n",
            "? update\n",
            "\n",
            " ---->  Modifying existing data in a database?\n",
            " <---- update\n",
            "✔\n",
            "\n",
            "\n",
            "-------------------------------------------------------------------------\n",
            "crud test finished.\n",
            "Your score is: 1/1\n",
            "Time taken: 0 minutes and 24 seconds\n",
            "-------------------------------------------------------------------------\n",
            "\n",
            "Do you want to practice python? (y/n) 5 questions.\n",
            "n\n",
            "Skipping ---python---\n"
          ]
        }
      ]
    }
  ],
  "metadata": {
    "colab": {
      "provenance": [],
      "authorship_tag": "ABX9TyPMrFoSXZ4oyvpZfEocJubi",
      "include_colab_link": true
    },
    "kernelspec": {
      "display_name": "Python 3",
      "name": "python3"
    },
    "language_info": {
      "name": "python"
    }
  },
  "nbformat": 4,
  "nbformat_minor": 0
}