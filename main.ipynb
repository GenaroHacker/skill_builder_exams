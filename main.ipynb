{
  "cells": [
    {
      "cell_type": "markdown",
      "metadata": {
        "id": "view-in-github",
        "colab_type": "text"
      },
      "source": [
        "<a href=\"https://colab.research.google.com/github/GenaroHacker/skill_builder_exams/blob/main/main.ipynb\" target=\"_parent\"><img src=\"https://colab.research.google.com/assets/colab-badge.svg\" alt=\"Open In Colab\"/></a>"
      ]
    },
    {
      "cell_type": "code",
      "source": [
        "#@title import\n",
        "%%capture\n",
        "!git clone https://github.com/GenaroHacker/skill_builder_exams.git\n",
        "import sqlite3\n",
        "from skill_builder_exams.exam import Exam\n",
        "from skill_builder_exams.practice import practice\n",
        "from skill_builder_exams.sql import insert_dict_records\n",
        "from skill_builder_exams.sql import read_records_as_dict\n",
        "from skill_builder_exams.sql import create_table\n",
        "from skill_builder_exams.sql import get_table_names\n",
        "from skill_builder_exams.sql import insert_exam\n",
        "from skill_builder_exams.sql import read_exam\n",
        "from skill_builder_exams.sql import read_all_exams\n",
        "from skill_builder_exams.sql import delete_exam\n",
        "from skill_builder_exams.sql import delete_all_exams\n"
      ],
      "metadata": {
        "id": "4ezuSf9nHz-5"
      },
      "execution_count": 1,
      "outputs": []
    },
    {
      "cell_type": "code",
      "source": [
        "#@title practice\n",
        "delete_exam(\"python\")\n",
        "delete_all_exams()\n",
        "insert_exam(\"your_exam_here\",{\"1 + 1\":\"2\"})\n",
        "practice(read_all_exams())"
      ],
      "metadata": {
        "colab": {
          "base_uri": "https://localhost:8080/"
        },
        "id": "l0wXDCXjNFkn",
        "outputId": "99db3f18-89fd-45da-b1ed-e5d451aa8504"
      },
      "execution_count": 3,
      "outputs": [
        {
          "output_type": "stream",
          "name": "stdout",
          "text": [
            "tablenames:  ['crud', 'bash', 'oop', 'music_intervals', 'your_exam_here']\n",
            "tablenames:  ['your_exam_here']\n",
            "There are 1 exams.\n",
            "Do you want to practice your_exam_here? (y/n) 1 questions.\n",
            "y\n",
            "Practicing ---your_exam_here---\n",
            "---->  1 + 1?\n",
            "? 2\n",
            "✔\n",
            "\n",
            "\n",
            "-------------------------------------------------------------------------\n",
            "your_exam_here test finished.\n",
            "Your score is: 1/1\n",
            "Time taken: 0 minutes and 4 seconds\n",
            "-------------------------------------------------------------------------\n",
            "\n"
          ]
        }
      ]
    }
  ],
  "metadata": {
    "colab": {
      "provenance": [],
      "authorship_tag": "ABX9TyOSJMtC3CfUNLv1Nz4g5tt0",
      "include_colab_link": true
    },
    "kernelspec": {
      "display_name": "Python 3",
      "name": "python3"
    },
    "language_info": {
      "name": "python"
    }
  },
  "nbformat": 4,
  "nbformat_minor": 0
}