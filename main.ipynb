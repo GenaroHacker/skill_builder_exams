{
  "cells": [
    {
      "cell_type": "markdown",
      "metadata": {
        "id": "view-in-github",
        "colab_type": "text"
      },
      "source": [
        "<a href=\"https://colab.research.google.com/github/GenaroHacker/skill_builder_exams/blob/main/main.ipynb\" target=\"_parent\"><img src=\"https://colab.research.google.com/assets/colab-badge.svg\" alt=\"Open In Colab\"/></a>"
      ]
    },
    {
      "cell_type": "code",
      "source": [
        "#@title import\n",
        "%%capture\n",
        "!git clone https://github.com/GenaroHacker/skill_builder_exams.git\n",
        "import sqlite3\n",
        "from skill_builder_exams.exam import Exam\n",
        "from skill_builder_exams.practice import practice\n",
        "from skill_builder_exams.sql import insert_dict_records\n",
        "from skill_builder_exams.sql import read_records_as_dict\n",
        "from skill_builder_exams.sql import create_table\n",
        "from skill_builder_exams.sql import get_table_names\n",
        "from skill_builder_exams.sql import insert_exam\n",
        "from skill_builder_exams.sql import read_exam"
      ],
      "metadata": {
        "id": "4ezuSf9nHz-5",
        "cellView": "form"
      },
      "execution_count": 1,
      "outputs": []
    },
    {
      "cell_type": "code",
      "source": [
        "#@title practice\n",
        "insert_exam(\"your_exam_here\",{\"1 + 1\":\"2\"})\n",
        "exams = []\n",
        "print(\"tablenames: \", get_table_names(\"/content/skill_builder_exams/exams.db\"))\n",
        "for i in get_table_names(\"/content/skill_builder_exams/exams.db\"):\n",
        "  exams.append(Exam(read_exam(i),i))\n",
        "practice(exams)"
      ],
      "metadata": {
        "colab": {
          "base_uri": "https://localhost:8080/"
        },
        "id": "l0wXDCXjNFkn",
        "outputId": "4199afee-7c91-4d94-e1e6-d96b9255b036"
      },
      "execution_count": 2,
      "outputs": [
        {
          "output_type": "stream",
          "name": "stdout",
          "text": [
            "tablenames:  ['crud', 'bash', 'oop', 'python', 'your_exam_here']\n",
            "There are 5 exams.\n",
            "Do you want to practice bash? (y/n) 5 questions.\n",
            "n\n",
            "Skipping ---bash---\n",
            "Do you want to practice python? (y/n) 5 questions.\n",
            "n\n",
            "Skipping ---python---\n",
            "Do you want to practice your_exam_here? (y/n) 1 questions.\n",
            "y\n",
            "Practicing ---your_exam_here---\n",
            "---->  1 + 1?\n",
            "? 2\n",
            "✔\n",
            "\n",
            "\n",
            "-------------------------------------------------------------------------\n",
            "Your score is: 1/1\n",
            "-------------------------------------------------------------------------\n",
            "\n",
            "Do you want to practice oop? (y/n) 5 questions.\n",
            "n\n",
            "Skipping ---oop---\n",
            "Do you want to practice crud? (y/n) 4 questions.\n",
            "n\n",
            "Skipping ---crud---\n"
          ]
        }
      ]
    }
  ],
  "metadata": {
    "colab": {
      "provenance": [],
      "authorship_tag": "ABX9TyPx0SrsEfeRh2gIliQ6Ntgw",
      "include_colab_link": true
    },
    "kernelspec": {
      "display_name": "Python 3",
      "name": "python3"
    },
    "language_info": {
      "name": "python"
    }
  },
  "nbformat": 4,
  "nbformat_minor": 0
}