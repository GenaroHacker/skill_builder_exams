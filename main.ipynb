{
  "cells": [
    {
      "cell_type": "markdown",
      "metadata": {
        "id": "view-in-github",
        "colab_type": "text"
      },
      "source": [
        "<a href=\"https://colab.research.google.com/github/GenaroHacker/skill_builder_exams/blob/main/main.ipynb\" target=\"_parent\"><img src=\"https://colab.research.google.com/assets/colab-badge.svg\" alt=\"Open In Colab\"/></a>"
      ]
    },
    {
      "cell_type": "code",
      "source": [
        "#@title import\n",
        "%%capture\n",
        "!git clone https://github.com/GenaroHacker/skill_builder_exams.git\n",
        "from skill_builder_exams.exam import Exam\n",
        "from skill_builder_exams.practice import practice\n",
        "\n",
        "\n",
        "from skill_builder_exams.sql import insert_dict_records\n",
        "\n",
        "from skill_builder_exams.sql import read_records_as_dict\n",
        "from skill_builder_exams.sql import create_table\n",
        "\n",
        "\n",
        "from skill_builder_exams.sql import get_table_names\n",
        "from skill_builder_exams.sql import insert_exam\n",
        "from skill_builder_exams.sql import read_exam"
      ],
      "metadata": {
        "id": "4ezuSf9nHz-5"
      },
      "execution_count": 1,
      "outputs": []
    },
    {
      "cell_type": "code",
      "source": [
        "#@title practice\n",
        "#exams = example_exams()\n",
        "#practice(exams)\n",
        "\n",
        "import sqlite3\n",
        "\n",
        "\n",
        "\n",
        "\n",
        "# Create the 'exams' database with the 'bash' table\n",
        "\n",
        "\n",
        "\n",
        "\n",
        "################################################\n",
        "def swap_dictionary(input_dict):\n",
        "    swapped_dict = {}\n",
        "    for key, value in input_dict.items():\n",
        "        swapped_dict[value] = key\n",
        "    return swapped_dict\n",
        "\n",
        "# Example usage\n",
        "original_dict = {\n",
        "  'A built-in Python function to calculate the length of a string or a list': 'len',\n",
        "  'Used to create a comment in Python': '#',\n",
        "  'A data type in Python that stores an ordered sequence of values': 'List',\n",
        "  'A Python keyword used to create a loop that iterates over a sequence': 'for',\n",
        "  'A Python keyword used to define a user-defined function': 'def'\n",
        "  }\n",
        "swapped_dict = swap_dictionary(original_dict)\n",
        "print(swapped_dict)  # Output: {1: 'a', 2: 'b', 3: 'c'}\n",
        "\n",
        "\n",
        "# Sample data as a Python dictionary\n",
        "bash_exam_data = swapped_dict\n",
        "\n",
        "\n",
        "insert_exam(\"python\",original_dict)\n",
        "################################################\n",
        "\n",
        "# Read the data from the 'bash' table in the 'exams.db' database and store it in a Python dictionary\n",
        "def read_exam(table_name):\n",
        "  return read_records_as_dict(\"/content/skill_builder_exams/exams.db\", table_name)\n",
        "exams = []\n",
        "print(\"tablenames: \", get_table_names(\"/content/skill_builder_exams/exams.db\"))\n",
        "for i in get_table_names(\"/content/skill_builder_exams/exams.db\"):\n",
        "  exams.append(Exam(read_exam(i),i))\n",
        "\n",
        "# Print the Python\n",
        "practice(exams)\n"
      ],
      "metadata": {
        "colab": {
          "base_uri": "https://localhost:8080/"
        },
        "id": "l0wXDCXjNFkn",
        "outputId": "7e7afae5-28f5-4c66-e1a8-e546a548e346"
      },
      "execution_count": 5,
      "outputs": [
        {
          "output_type": "stream",
          "name": "stdout",
          "text": [
            "{'len': 'A built-in Python function to calculate the length of a string or a list', '#': 'Used to create a comment in Python', 'List': 'A data type in Python that stores an ordered sequence of values', 'for': 'A Python keyword used to create a loop that iterates over a sequence', 'def': 'A Python keyword used to define a user-defined function'}\n",
            "tablenames:  ['crud', 'bash', 'oop', 'python']\n",
            "There are 4 exams.\n",
            "Do you want to practice python? (y/n) 5 questions.\n",
            "n\n",
            "Skipping ---python---\n",
            "Do you want to practice bash? (y/n) 5 questions.\n",
            "n\n",
            "Skipping ---bash---\n",
            "Do you want to practice crud? (y/n) 4 questions.\n",
            "y\n",
            "Practicing ---crud---\n",
            "---->  Removing data from a database?\n",
            "? delete\n",
            "✔\n",
            "\n",
            "---->  Adding new data to a database?\n",
            "? create\n",
            "✔\n",
            "\n",
            "---->  Modifying existing data in a database?\n",
            "? update\n",
            "✔\n",
            "\n",
            "---->  Retrieving existing data from a database?\n",
            "? read\n",
            "✔\n",
            "\n",
            "\n",
            "-------------------------------------------------------------------------\n",
            "Your score is: 4/4\n",
            "-------------------------------------------------------------------------\n",
            "\n",
            "Do you want to practice oop? (y/n) 5 questions.\n",
            "n\n",
            "Skipping ---oop---\n"
          ]
        }
      ]
    }
  ],
  "metadata": {
    "colab": {
      "provenance": [],
      "authorship_tag": "ABX9TyPgVM+KU3tEiTvTmdL+locR",
      "include_colab_link": true
    },
    "kernelspec": {
      "display_name": "Python 3",
      "name": "python3"
    },
    "language_info": {
      "name": "python"
    }
  },
  "nbformat": 4,
  "nbformat_minor": 0
}