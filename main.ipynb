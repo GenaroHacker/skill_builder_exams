{
  "cells": [
    {
      "cell_type": "markdown",
      "metadata": {
        "id": "view-in-github",
        "colab_type": "text"
      },
      "source": [
        "<a href=\"https://colab.research.google.com/github/GenaroHacker/skill_builder_exams/blob/main/main.ipynb\" target=\"_parent\"><img src=\"https://colab.research.google.com/assets/colab-badge.svg\" alt=\"Open In Colab\"/></a>"
      ]
    },
    {
      "cell_type": "code",
      "source": [
        "!git clone https://github.com/GenaroHacker/skill_builder_exams.git"
      ],
      "metadata": {
        "id": "4ezuSf9nHz-5",
        "colab": {
          "base_uri": "https://localhost:8080/"
        },
        "outputId": "c0faeb7b-0d6d-4b86-a3ed-a278b97bc101"
      },
      "execution_count": null,
      "outputs": [
        {
          "output_type": "stream",
          "name": "stdout",
          "text": [
            "fatal: destination path 'skill_builder_exams' already exists and is not an empty directory.\n"
          ]
        }
      ]
    },
    {
      "cell_type": "code",
      "source": [
        "from skill_builder_exams.exam import Exam\n",
        "\n",
        "CRUD = {'Adding new data to a database': 'Create',\n",
        "'Retrieving existing data from a database': 'Read',\n",
        "'Modifying existing data in a database': 'Update',\n",
        "'Removing data from a database': 'Delete'}\n",
        "BASH = {'Prints the current working directory': 'pwd',\n",
        " 'Lists the contents of a directory': 'ls',\n",
        " 'Changes the current directory': 'cd',\n",
        " 'Creates an empty file': 'touch',\n",
        " 'Displays the contents of a file': 'cat'}\n",
        "EMPTY = {}\n",
        "\n",
        "exams = [\n",
        "    Exam(\n",
        "        CRUD,\n",
        "        \"Exam CRUD\"\n",
        "    ),\n",
        "    Exam(\n",
        "        BASH,\n",
        "        \"Exam bash\"\n",
        "    ),\n",
        "    Exam(\n",
        "        EMPTY,\n",
        "        \"Exam EMPTY\"\n",
        "    ),\n",
        "]\n",
        "\n",
        "\n",
        "print(\"There are \" + str(len(exams)) + \" exams.\")\n",
        "\n",
        "\n",
        "# Ask the user if they want to practice each exam\n",
        "for exam in exams:\n",
        "    response = input(\"Do you want to practice \" + exam.exam_description + \"? (y/n) \")\n",
        "    if response.lower() == \"y\":\n",
        "        print(\"Practicing ---\" + exam.exam_description + \"---\")\n",
        "        exam.practice_row()\n",
        "    else:\n",
        "        print(\"Skipping ---\" + exam.exam_description + \"---\")\n",
        "\n"
      ],
      "metadata": {
        "colab": {
          "base_uri": "https://localhost:8080/"
        },
        "id": "l0wXDCXjNFkn",
        "outputId": "711ec66f-e778-4e26-d5df-68654a9ca3cc"
      },
      "execution_count": null,
      "outputs": [
        {
          "output_type": "stream",
          "name": "stdout",
          "text": [
            "There are 3 exams.\n",
            "Do you want to practice Exam CRUD? (y/n) Y\n",
            "Practicing ---Exam CRUD---\n",
            "---->  Modifying existing data in a database?\n",
            "? UPDATE\n",
            "✔\n",
            "\n",
            "---->  Retrieving existing data from a database?\n",
            "? READ\n",
            "✔\n",
            "\n",
            "---->  Adding new data to a database?\n",
            "? CREATE\n",
            "✔\n",
            "\n",
            "---->  Removing data from a database?\n",
            "? DELETE\n",
            "✔\n",
            "\n",
            "\n",
            "-------------------------------------------------------------------------\n",
            "Your score is: 4/4\n",
            "-------------------------------------------------------------------------\n",
            "\n",
            "Do you want to practice Exam bash? (y/n) Y\n",
            "Practicing ---Exam bash---\n",
            "---->  Creates an empty file?\n",
            "? TOUCH\n",
            "✔\n",
            "\n",
            "---->  Displays the contents of a file?\n",
            "? CAT\n",
            "✔\n",
            "\n",
            "---->  Changes the current directory?\n",
            "? CD\n",
            "✔\n",
            "\n",
            "---->  Lists the contents of a directory?\n",
            "? LS\n",
            "✔\n",
            "\n",
            "---->  Prints the current working directory?\n",
            "? PWD\n",
            "✔\n",
            "\n",
            "\n",
            "-------------------------------------------------------------------------\n",
            "Your score is: 5/5\n",
            "-------------------------------------------------------------------------\n",
            "\n",
            "Do you want to practice Exam EMPTY? (y/n) Y\n",
            "Practicing ---Exam EMPTY---\n"
          ]
        }
      ]
    }
  ],
  "metadata": {
    "colab": {
      "provenance": [],
      "authorship_tag": "ABX9TyNF2Ae4ingsLW+G8VreVs6C",
      "include_colab_link": true
    },
    "kernelspec": {
      "display_name": "Python 3",
      "name": "python3"
    },
    "language_info": {
      "name": "python"
    }
  },
  "nbformat": 4,
  "nbformat_minor": 0
}