{
  "cells": [
    {
      "cell_type": "markdown",
      "metadata": {
        "id": "view-in-github",
        "colab_type": "text"
      },
      "source": [
        "<a href=\"https://colab.research.google.com/github/GenaroHacker/skill_builder_exams/blob/main/main.ipynb\" target=\"_parent\"><img src=\"https://colab.research.google.com/assets/colab-badge.svg\" alt=\"Open In Colab\"/></a>"
      ]
    },
    {
      "cell_type": "code",
      "source": [
        "#@title Set Up\n",
        "%%capture\n",
        "!git clone https://github.com/GenaroHacker/skill_builder_exams.git\n",
        "\n",
        "from skill_builder_exams.sql import insert_exam\n",
        "from skill_builder_exams.sql import read_all_exams\n",
        "from skill_builder_exams.sql import delete_exam\n",
        "from skill_builder_exams.sql import delete_all_exams\n",
        "from skill_builder_exams.sql import print_all_exams\n",
        "from skill_builder_exams.practice import practice\n",
        "from skill_builder_exams.read_dict_exams import process_and_insert_exams_from_directory"
      ],
      "metadata": {
        "id": "4ezuSf9nHz-5",
        "cellView": "form"
      },
      "execution_count": 1,
      "outputs": []
    },
    {
      "cell_type": "code",
      "source": [
        "#@title Practice\n",
        "#delete_exam(\"python\")\n",
        "#delete_all_exams()\n",
        "process_and_insert_exams_from_directory()\n",
        "insert_exam(\"your_exam_here\",\"example_tag\",{\"1 + 1\":\"2\", \"1 - 1\":\"0\"})\n",
        "print_all_exams()\n",
        "practice([\"example_tag\"]) # Filter exams by tag"
      ],
      "metadata": {
        "colab": {
          "base_uri": "https://localhost:8080/"
        },
        "id": "l0wXDCXjNFkn",
        "outputId": "b19ecd47-1eaa-4550-ef8d-f51c9adb5537",
        "cellView": "form"
      },
      "execution_count": 3,
      "outputs": [
        {
          "output_type": "stream",
          "name": "stdout",
          "text": [
            "TAG             EXAM            QUESTIONS \n",
            "----------------------------------------\n",
            "design_pattern_aspects_that_vary creational_pattern_aspects_that_vary 5         \n",
            "design_pattern_aspects_that_vary structural_pattern_aspects_that_vary 7         \n",
            "design_pattern_aspects_that_vary behavioral_pattern_aspects_that_vary 11        \n",
            "design_pattern_definitions creational_pattern_definitions 5         \n",
            "design_pattern_definitions structural_pattern_definitions 7         \n",
            "design_pattern_definitions behavioral_pattern_definitions 11        \n",
            "design_pattern_participants creational_patterns 5         \n",
            "design_pattern_participants structural_patterns 7         \n",
            "design_pattern_participants behavioral_patterns 11        \n",
            "example_tag     your_exam_here  2         \n",
            "guitar          music_intervals 25        \n",
            "guitar          intervals_to_semitones 26        \n",
            "guitar          semitones_to_intervals 14        \n",
            "\n",
            "1 exams selected.\n",
            "\n",
            "Do you want to practice your_exam_here? (y/n) 2 questions.\n",
            "y\n",
            "Practicing ---your_exam_here---\n",
            " ---->  1 - 1?\n",
            " <---- 0\n",
            " ---->  ✔\n",
            "\n",
            " ---->  1 + 1?\n",
            " <---- 2\n",
            " ---->  ✔\n",
            "\n",
            "\n",
            "-------------------------------------------------------------------------\n",
            "your_exam_here test finished.\n",
            "Your score was: 2/2\n",
            "Time taken: 0 minutes and 3 seconds\n",
            "-------------------------------------------------------------------------\n",
            "\n",
            "\n"
          ]
        }
      ]
    }
  ],
  "metadata": {
    "colab": {
      "provenance": [],
      "authorship_tag": "ABX9TyNqnC5KSA+uxoT8cdhwQcJO",
      "include_colab_link": true
    },
    "kernelspec": {
      "display_name": "Python 3",
      "name": "python3"
    },
    "language_info": {
      "name": "python"
    }
  },
  "nbformat": 4,
  "nbformat_minor": 0
}