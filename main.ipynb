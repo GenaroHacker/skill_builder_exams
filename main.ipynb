{
  "cells": [
    {
      "cell_type": "markdown",
      "metadata": {
        "id": "view-in-github",
        "colab_type": "text"
      },
      "source": [
        "<a href=\"https://colab.research.google.com/github/GenaroHacker/skill_builder_exams/blob/main/main.ipynb\" target=\"_parent\"><img src=\"https://colab.research.google.com/assets/colab-badge.svg\" alt=\"Open In Colab\"/></a>"
      ]
    },
    {
      "cell_type": "code",
      "source": [
        "!git clone https://github.com/GenaroHacker/skill_builder_exams.git"
      ],
      "metadata": {
        "id": "4ezuSf9nHz-5",
        "colab": {
          "base_uri": "https://localhost:8080/"
        },
        "outputId": "16f4b329-6d79-4a31-caa6-7252d437016b"
      },
      "execution_count": 1,
      "outputs": [
        {
          "output_type": "stream",
          "name": "stdout",
          "text": [
            "Cloning into 'skill_builder_exams'...\n",
            "remote: Enumerating objects: 43, done.\u001b[K\n",
            "remote: Counting objects: 100% (43/43), done.\u001b[K\n",
            "remote: Compressing objects: 100% (39/39), done.\u001b[K\n",
            "remote: Total 43 (delta 17), reused 6 (delta 0), pack-reused 0\u001b[K\n",
            "Unpacking objects: 100% (43/43), 11.08 KiB | 709.00 KiB/s, done.\n"
          ]
        }
      ]
    },
    {
      "cell_type": "code",
      "source": [
        "from skill_builder_exams.exam import Exam\n",
        "\n",
        "CRUD = {'Adding new data to a database': 'Create',\n",
        "'Retrieving existing data from a database': 'Read',\n",
        "'Modifying existing data in a database': 'Update',\n",
        "'Removing data from a database': 'Delete'}\n",
        "BASH = {'Prints the current working directory': 'pwd',\n",
        " 'Lists the contents of a directory': 'ls',\n",
        " 'Changes the current directory': 'cd',\n",
        " 'Creates an empty file': 'touch',\n",
        " 'Displays the contents of a file': 'cat'}\n",
        "OOP = {\n",
        "    'Focusing only on the essential features of an object or a class while ignoring the unnecessary details': 'Abstraction',\n",
        "    'Bundling the data and the functions that manipulate the data within a single unit, which is known as a class': 'Encapsulation',\n",
        "    'Allows a new class to be based on an existing class, inheriting its properties and methods': 'Inheritance',\n",
        "    'Refers to the ability of an object to take on different forms or behaviors depending on the context in which it is used': 'Polymorphism',\n",
        "    'A blueprint or a template for creating objects that defines a set of properties and methods that are common to all objects of that class': 'Class'\n",
        "}\n",
        "\n",
        "EMPTY = {}\n",
        "\n",
        "exams = [\n",
        "    Exam(\n",
        "        CRUD,\n",
        "        \"CRUD\"\n",
        "    ),\n",
        "    Exam(\n",
        "        BASH,\n",
        "        \"Bash\"\n",
        "    ),\n",
        "    Exam(\n",
        "        OOP,\n",
        "        \"OOP\"\n",
        "    ),\n",
        "    Exam(\n",
        "        EMPTY,\n",
        "        \"Your title here\"\n",
        "    )\n",
        "]\n",
        "\n",
        "\n",
        "print(\"There are \" + str(len(exams)) + \" exams.\")\n",
        "\n",
        "\n",
        "# Ask the user if they want to practice each exam\n",
        "for exam in exams:\n",
        "    response = input(\"Do you want to practice \" + exam.exam_description + \"? (y/n) \")\n",
        "    if response.lower() == \"y\":\n",
        "        print(\"Practicing ---\" + exam.exam_description + \"---\")\n",
        "        exam.practice_row()\n",
        "    else:\n",
        "        print(\"Skipping ---\" + exam.exam_description + \"---\")\n",
        "\n"
      ],
      "metadata": {
        "colab": {
          "base_uri": "https://localhost:8080/"
        },
        "id": "l0wXDCXjNFkn",
        "outputId": "cf1484a8-9287-4adb-e489-e7ddba7a49fc"
      },
      "execution_count": 3,
      "outputs": [
        {
          "output_type": "stream",
          "name": "stdout",
          "text": [
            "There are 4 exams.\n",
            "Do you want to practice CRUD? (y/n) N\n",
            "Skipping ---CRUD---\n",
            "Do you want to practice Bash? (y/n) N\n",
            "Skipping ---Bash---\n",
            "Do you want to practice OOP? (y/n) Y\n",
            "Practicing ---OOP---\n",
            "---->  Focusing only on the essential features of an object or a class while ignoring the unnecessary details?\n",
            "? ENCApsulation\n",
            "✘\n",
            "The correct answer is -->  ABSTRACTION\n",
            "---->  Focusing only on the essential features of an object or a class while ignoring the unnecessary details\n",
            "? abstraction\n",
            "\n",
            "---->  Bundling the data and the functions that manipulate the data within a single unit, which is known as a class?\n",
            "? coding\n",
            "✘\n",
            "The correct answer is -->  ENCAPSULATION\n",
            "---->  Bundling the data and the functions that manipulate the data within a single unit, which is known as a class\n",
            "? encapsulation\n",
            "\n",
            "---->  Allows a new class to be based on an existing class, inheriting its properties and methods?\n",
            "? inheritance\n",
            "✔\n",
            "\n",
            "---->  Refers to the ability of an object to take on different forms or behaviors depending on the context in which it is used?\n",
            "? multimodality\n",
            "✘\n",
            "The correct answer is -->  POLYMORPHISM\n",
            "---->  Refers to the ability of an object to take on different forms or behaviors depending on the context in which it is used\n",
            "? polymorphism\n",
            "\n",
            "---->  A blueprint or a template for creating objects that defines a set of properties and methods that are common to all objects of that class?\n",
            "? class\n",
            "✔\n",
            "\n",
            "\n",
            "-------------------------------------------------------------------------\n",
            "Your score is: 2/5\n",
            "-------------------------------------------------------------------------\n",
            "\n",
            "---->  Bundling the data and the functions that manipulate the data within a single unit, which is known as a class?\n",
            "? code\n",
            "✘\n",
            "The correct answer is -->  ENCAPSULATION\n",
            "---->  Bundling the data and the functions that manipulate the data within a single unit, which is known as a class\n",
            "? encapsulation\n",
            "\n",
            "---->  Focusing only on the essential features of an object or a class while ignoring the unnecessary details?\n",
            "? focus\n",
            "✘\n",
            "The correct answer is -->  ABSTRACTION\n",
            "---->  Focusing only on the essential features of an object or a class while ignoring the unnecessary details\n",
            "? abstraction\n",
            "\n",
            "---->  Refers to the ability of an object to take on different forms or behaviors depending on the context in which it is used?\n",
            "? polymorphism\n",
            "✔\n",
            "\n",
            "\n",
            "-------------------------------------------------------------------------\n",
            "Your score is: 1/3\n",
            "-------------------------------------------------------------------------\n",
            "\n",
            "---->  Bundling the data and the functions that manipulate the data within a single unit, which is known as a class?\n",
            "? encapsulation\n",
            "✔\n",
            "\n",
            "---->  Focusing only on the essential features of an object or a class while ignoring the unnecessary details?\n",
            "? abstraction\n",
            "✔\n",
            "\n",
            "\n",
            "-------------------------------------------------------------------------\n",
            "Your score is: 2/2\n",
            "-------------------------------------------------------------------------\n",
            "\n",
            "Do you want to practice Your title here? (y/n) y\n",
            "Practicing ---Your title here---\n"
          ]
        }
      ]
    }
  ],
  "metadata": {
    "colab": {
      "provenance": [],
      "authorship_tag": "ABX9TyOghgv0PIBERfFBQFKMDITM",
      "include_colab_link": true
    },
    "kernelspec": {
      "display_name": "Python 3",
      "name": "python3"
    },
    "language_info": {
      "name": "python"
    }
  },
  "nbformat": 4,
  "nbformat_minor": 0
}