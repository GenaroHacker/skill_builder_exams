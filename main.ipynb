{
  "cells": [
    {
      "cell_type": "markdown",
      "metadata": {
        "id": "view-in-github",
        "colab_type": "text"
      },
      "source": [
        "<a href=\"https://colab.research.google.com/github/GenaroHacker/skill_builder_exams/blob/main/main.ipynb\" target=\"_parent\"><img src=\"https://colab.research.google.com/assets/colab-badge.svg\" alt=\"Open In Colab\"/></a>"
      ]
    },
    {
      "cell_type": "code",
      "source": [
        "#@title Set Up\n",
        "%%capture\n",
        "!git clone https://github.com/GenaroHacker/skill_builder_exams.git\n",
        "\n",
        "from skill_builder_exams.sql import insert_exam\n",
        "from skill_builder_exams.sql import read_all_exams\n",
        "from skill_builder_exams.sql import delete_exam\n",
        "from skill_builder_exams.sql import delete_all_exams\n",
        "from skill_builder_exams.sql import print_all_exams\n",
        "from skill_builder_exams.practice import practice"
      ],
      "metadata": {
        "id": "4ezuSf9nHz-5",
        "cellView": "form"
      },
      "execution_count": 1,
      "outputs": []
    },
    {
      "cell_type": "code",
      "source": [
        "#@title Practice\n",
        "#delete_exam(\"python\")\n",
        "#delete_all_exams()\n",
        "insert_exam(\"your_exam_here\",\"example_tag\",{\"1 + 1\":\"2\", \"1 - 1\":\"0\"})\n",
        "print_all_exams()\n",
        "practice([\"example_tag\",\"sql\"]) # Filter exams by tag"
      ],
      "metadata": {
        "colab": {
          "base_uri": "https://localhost:8080/"
        },
        "id": "l0wXDCXjNFkn",
        "outputId": "bc89dc06-5c2a-46a0-b170-69fa32e0aadd",
        "cellView": "form"
      },
      "execution_count": 4,
      "outputs": [
        {
          "output_type": "stream",
          "name": "stdout",
          "text": [
            "TAG             EXAM            QUESTIONS \n",
            "----------------------------------------\n",
            "bash            bash            5         \n",
            "docker          docker_basics   8         \n",
            "example_tag     your_exam_here  2         \n",
            "guitar          music_intervals 25        \n",
            "guitar          semitones       26        \n",
            "programming     oop             5         \n",
            "python          python          5         \n",
            "python          python_2        5         \n",
            "sql             crud            4         \n",
            "\n",
            "2 exams selected.\n",
            "\n",
            "Do you want to practice crud? (y/n) 4 questions.\n",
            "n\n",
            "Skipping ---crud---\n",
            "\n",
            "Do you want to practice your_exam_here? (y/n) 2 questions.\n",
            "y\n",
            "Practicing ---your_exam_here---\n",
            " ---->  1 - 1?\n",
            " <---- 0\n",
            " -->  ✔\n",
            "\n",
            " ---->  1 + 1?\n",
            " <---- 4325\n",
            " -->  ✘\n",
            " -->  The correct answer is -->  2\n",
            "---->  1 + 1\n",
            " -->  ? 2\n",
            "\n",
            " ---->  1 + 1?\n",
            " <---- 2\n",
            " -->  ✔\n",
            "\n",
            "\n",
            "-------------------------------------------------------------------------\n",
            "your_exam_here test finished.\n",
            "Your score was: 1/2\n",
            "Time taken: 0 minutes and 6 seconds\n",
            "-------------------------------------------------------------------------\n",
            "\n",
            "\n"
          ]
        }
      ]
    }
  ],
  "metadata": {
    "colab": {
      "provenance": [],
      "authorship_tag": "ABX9TyP63HHpqrNXoKt5v7cf+JJJ",
      "include_colab_link": true
    },
    "kernelspec": {
      "display_name": "Python 3",
      "name": "python3"
    },
    "language_info": {
      "name": "python"
    }
  },
  "nbformat": 4,
  "nbformat_minor": 0
}