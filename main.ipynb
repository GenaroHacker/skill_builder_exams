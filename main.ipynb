{
  "cells": [
    {
      "cell_type": "markdown",
      "metadata": {
        "id": "view-in-github",
        "colab_type": "text"
      },
      "source": [
        "<a href=\"https://colab.research.google.com/github/GenaroHacker/skill_builder_exams/blob/main/main.ipynb\" target=\"_parent\"><img src=\"https://colab.research.google.com/assets/colab-badge.svg\" alt=\"Open In Colab\"/></a>"
      ]
    },
    {
      "cell_type": "code",
      "source": [
        "!git clone https://github.com/GenaroHacker/skill_builder_exams.git"
      ],
      "metadata": {
        "id": "4ezuSf9nHz-5",
        "colab": {
          "base_uri": "https://localhost:8080/"
        },
        "outputId": "16f4b329-6d79-4a31-caa6-7252d437016b"
      },
      "execution_count": 1,
      "outputs": [
        {
          "output_type": "stream",
          "name": "stdout",
          "text": [
            "Cloning into 'skill_builder_exams'...\n",
            "remote: Enumerating objects: 43, done.\u001b[K\n",
            "remote: Counting objects: 100% (43/43), done.\u001b[K\n",
            "remote: Compressing objects: 100% (39/39), done.\u001b[K\n",
            "remote: Total 43 (delta 17), reused 6 (delta 0), pack-reused 0\u001b[K\n",
            "Unpacking objects: 100% (43/43), 11.08 KiB | 709.00 KiB/s, done.\n"
          ]
        }
      ]
    },
    {
      "cell_type": "code",
      "source": [
        "from skill_builder_exams.exam import Exam\n",
        "\n",
        "CRUD = {'Adding new data to a database': 'Create',\n",
        "'Retrieving existing data from a database': 'Read',\n",
        "'Modifying existing data in a database': 'Update',\n",
        "'Removing data from a database': 'Delete'}\n",
        "BASH = {'Prints the current working directory': 'pwd',\n",
        " 'Lists the contents of a directory': 'ls',\n",
        " 'Changes the current directory': 'cd',\n",
        " 'Creates an empty file': 'touch',\n",
        " 'Displays the contents of a file': 'cat'}\n",
        "OOP = {\n",
        "    'Focusing only on the essential features of an object or a class while ignoring the unnecessary details': 'Abstraction',\n",
        "    'Bundling the data and the functions that manipulate the data within a single unit, which is known as a class': 'Encapsulation',\n",
        "    'Allows a new class to be based on an existing class, inheriting its properties and methods': 'Inheritance',\n",
        "    'Refers to the ability of an object to take on different forms or behaviors depending on the context in which it is used': 'Polymorphism',\n",
        "    'A blueprint or a template for creating objects that defines a set of properties and methods that are common to all objects of that class': 'Class'\n",
        "}\n",
        "\n",
        "EMPTY = {}\n",
        "\n",
        "exams = [\n",
        "    Exam(\n",
        "        CRUD,\n",
        "        \"CRUD\"\n",
        "    ),\n",
        "    Exam(\n",
        "        BASH,\n",
        "        \"Bash\"\n",
        "    ),\n",
        "    Exam(\n",
        "        OOP,\n",
        "        \"OOP\"\n",
        "    ),\n",
        "    Exam(\n",
        "        EMPTY,\n",
        "        \"Your title here\"\n",
        "    )\n",
        "]\n",
        "\n",
        "\n",
        "print(\"There are \" + str(len(exams)) + \" exams.\")\n",
        "import random\n",
        "random.shuffle(exams)\n",
        "for exam in exams:\n",
        "    response = input(\"Do you want to practice \" + exam.exam_description + \"? (y/n) \")\n",
        "    if response.lower() == \"y\":\n",
        "        print(\"Practicing ---\" + exam.exam_description + \"---\")\n",
        "        exam.practice_row()\n",
        "    else:\n",
        "        print(\"Skipping ---\" + exam.exam_description + \"---\")\n",
        "\n"
      ],
      "metadata": {
        "colab": {
          "base_uri": "https://localhost:8080/",
          "height": 400
        },
        "id": "l0wXDCXjNFkn",
        "outputId": "951a4126-1fbc-485e-a28c-829e31539b5a"
      },
      "execution_count": 8,
      "outputs": [
        {
          "output_type": "stream",
          "name": "stdout",
          "text": [
            "There are 4 exams.\n"
          ]
        },
        {
          "output_type": "error",
          "ename": "KeyboardInterrupt",
          "evalue": "ignored",
          "traceback": [
            "\u001b[0;31m---------------------------------------------------------------------------\u001b[0m",
            "\u001b[0;31mKeyboardInterrupt\u001b[0m                         Traceback (most recent call last)",
            "\u001b[0;32m<ipython-input-8-83d1c28ccbc3>\u001b[0m in \u001b[0;36m<cell line: 50>\u001b[0;34m()\u001b[0m\n\u001b[1;32m     49\u001b[0m \u001b[0;31m# Ask the user if they want to practice each exam\u001b[0m\u001b[0;34m\u001b[0m\u001b[0;34m\u001b[0m\u001b[0m\n\u001b[1;32m     50\u001b[0m \u001b[0;32mfor\u001b[0m \u001b[0mexam\u001b[0m \u001b[0;32min\u001b[0m \u001b[0mexams\u001b[0m\u001b[0;34m:\u001b[0m\u001b[0;34m\u001b[0m\u001b[0;34m\u001b[0m\u001b[0m\n\u001b[0;32m---> 51\u001b[0;31m     \u001b[0mresponse\u001b[0m \u001b[0;34m=\u001b[0m \u001b[0minput\u001b[0m\u001b[0;34m(\u001b[0m\u001b[0;34m\"Do you want to practice \"\u001b[0m \u001b[0;34m+\u001b[0m \u001b[0mexam\u001b[0m\u001b[0;34m.\u001b[0m\u001b[0mexam_description\u001b[0m \u001b[0;34m+\u001b[0m \u001b[0;34m\"? (y/n) \"\u001b[0m\u001b[0;34m)\u001b[0m\u001b[0;34m\u001b[0m\u001b[0;34m\u001b[0m\u001b[0m\n\u001b[0m\u001b[1;32m     52\u001b[0m     \u001b[0;32mif\u001b[0m \u001b[0mresponse\u001b[0m\u001b[0;34m.\u001b[0m\u001b[0mlower\u001b[0m\u001b[0;34m(\u001b[0m\u001b[0;34m)\u001b[0m \u001b[0;34m==\u001b[0m \u001b[0;34m\"y\"\u001b[0m\u001b[0;34m:\u001b[0m\u001b[0;34m\u001b[0m\u001b[0;34m\u001b[0m\u001b[0m\n\u001b[1;32m     53\u001b[0m         \u001b[0mprint\u001b[0m\u001b[0;34m(\u001b[0m\u001b[0;34m\"Practicing ---\"\u001b[0m \u001b[0;34m+\u001b[0m \u001b[0mexam\u001b[0m\u001b[0;34m.\u001b[0m\u001b[0mexam_description\u001b[0m \u001b[0;34m+\u001b[0m \u001b[0;34m\"---\"\u001b[0m\u001b[0;34m)\u001b[0m\u001b[0;34m\u001b[0m\u001b[0;34m\u001b[0m\u001b[0m\n",
            "\u001b[0;32m/usr/local/lib/python3.9/dist-packages/ipykernel/kernelbase.py\u001b[0m in \u001b[0;36mraw_input\u001b[0;34m(self, prompt)\u001b[0m\n\u001b[1;32m    849\u001b[0m                 \u001b[0;34m\"raw_input was called, but this frontend does not support input requests.\"\u001b[0m\u001b[0;34m\u001b[0m\u001b[0;34m\u001b[0m\u001b[0m\n\u001b[1;32m    850\u001b[0m             )\n\u001b[0;32m--> 851\u001b[0;31m         return self._input_request(str(prompt),\n\u001b[0m\u001b[1;32m    852\u001b[0m             \u001b[0mself\u001b[0m\u001b[0;34m.\u001b[0m\u001b[0m_parent_ident\u001b[0m\u001b[0;34m,\u001b[0m\u001b[0;34m\u001b[0m\u001b[0;34m\u001b[0m\u001b[0m\n\u001b[1;32m    853\u001b[0m             \u001b[0mself\u001b[0m\u001b[0;34m.\u001b[0m\u001b[0m_parent_header\u001b[0m\u001b[0;34m,\u001b[0m\u001b[0;34m\u001b[0m\u001b[0;34m\u001b[0m\u001b[0m\n",
            "\u001b[0;32m/usr/local/lib/python3.9/dist-packages/ipykernel/kernelbase.py\u001b[0m in \u001b[0;36m_input_request\u001b[0;34m(self, prompt, ident, parent, password)\u001b[0m\n\u001b[1;32m    893\u001b[0m             \u001b[0;32mexcept\u001b[0m \u001b[0mKeyboardInterrupt\u001b[0m\u001b[0;34m:\u001b[0m\u001b[0;34m\u001b[0m\u001b[0;34m\u001b[0m\u001b[0m\n\u001b[1;32m    894\u001b[0m                 \u001b[0;31m# re-raise KeyboardInterrupt, to truncate traceback\u001b[0m\u001b[0;34m\u001b[0m\u001b[0;34m\u001b[0m\u001b[0m\n\u001b[0;32m--> 895\u001b[0;31m                 \u001b[0;32mraise\u001b[0m \u001b[0mKeyboardInterrupt\u001b[0m\u001b[0;34m(\u001b[0m\u001b[0;34m\"Interrupted by user\"\u001b[0m\u001b[0;34m)\u001b[0m \u001b[0;32mfrom\u001b[0m \u001b[0;32mNone\u001b[0m\u001b[0;34m\u001b[0m\u001b[0;34m\u001b[0m\u001b[0m\n\u001b[0m\u001b[1;32m    896\u001b[0m             \u001b[0;32mexcept\u001b[0m \u001b[0mException\u001b[0m \u001b[0;32mas\u001b[0m \u001b[0me\u001b[0m\u001b[0;34m:\u001b[0m\u001b[0;34m\u001b[0m\u001b[0;34m\u001b[0m\u001b[0m\n\u001b[1;32m    897\u001b[0m                 \u001b[0mself\u001b[0m\u001b[0;34m.\u001b[0m\u001b[0mlog\u001b[0m\u001b[0;34m.\u001b[0m\u001b[0mwarning\u001b[0m\u001b[0;34m(\u001b[0m\u001b[0;34m\"Invalid Message:\"\u001b[0m\u001b[0;34m,\u001b[0m \u001b[0mexc_info\u001b[0m\u001b[0;34m=\u001b[0m\u001b[0;32mTrue\u001b[0m\u001b[0;34m)\u001b[0m\u001b[0;34m\u001b[0m\u001b[0;34m\u001b[0m\u001b[0m\n",
            "\u001b[0;31mKeyboardInterrupt\u001b[0m: Interrupted by user"
          ]
        }
      ]
    }
  ],
  "metadata": {
    "colab": {
      "provenance": [],
      "authorship_tag": "ABX9TyNnghEjxU118gvCWrumgwWE",
      "include_colab_link": true
    },
    "kernelspec": {
      "display_name": "Python 3",
      "name": "python3"
    },
    "language_info": {
      "name": "python"
    }
  },
  "nbformat": 4,
  "nbformat_minor": 0
}