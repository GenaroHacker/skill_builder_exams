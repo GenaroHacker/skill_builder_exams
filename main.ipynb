{
  "cells": [
    {
      "cell_type": "markdown",
      "metadata": {
        "id": "view-in-github",
        "colab_type": "text"
      },
      "source": [
        "<a href=\"https://colab.research.google.com/github/GenaroHacker/skill_builder_exams/blob/main/main.ipynb\" target=\"_parent\"><img src=\"https://colab.research.google.com/assets/colab-badge.svg\" alt=\"Open In Colab\"/></a>"
      ]
    },
    {
      "cell_type": "code",
      "source": [
        "#@title import\n",
        "%%capture\n",
        "!git clone https://github.com/GenaroHacker/skill_builder_exams.git\n",
        "from skill_builder_exams.exam import Exam\n",
        "from skill_builder_exams.practice import practice\n",
        "\n",
        "\n",
        "from skill_builder_exams.sql import insert_dict_records\n",
        "\n",
        "from skill_builder_exams.sql import read_records_as_dict\n",
        "from skill_builder_exams.sql import create_table\n",
        "\n",
        "\n",
        "from skill_builder_exams.sql import get_table_names\n",
        "from skill_builder_exams.sql import insert_exam\n",
        "from skill_builder_exams.sql import read_exam"
      ],
      "metadata": {
        "id": "4ezuSf9nHz-5"
      },
      "execution_count": 1,
      "outputs": []
    },
    {
      "cell_type": "code",
      "source": [
        "#@title practice\n",
        "#exams = example_exams()\n",
        "#practice(exams)\n",
        "\n",
        "import sqlite3\n",
        "\n",
        "\n",
        "\n",
        "\n",
        "# Create the 'exams' database with the 'bash' table\n",
        "\n",
        "\n",
        "\n",
        "\n",
        "################################################\n",
        "def swap_dictionary(input_dict):\n",
        "    swapped_dict = {}\n",
        "    for key, value in input_dict.items():\n",
        "        swapped_dict[value] = key\n",
        "    return swapped_dict\n",
        "\n",
        "# Example usage\n",
        "original_dict = {'Adding new data to a database': 'Create',\n",
        "  'Retrieving existing data from a database': 'Read',\n",
        "  'Modifying existing data in a database': 'Update',\n",
        "  'Removing data from a database': 'Delete'}\n",
        "swapped_dict = swap_dictionary(original_dict)\n",
        "print(swapped_dict)  # Output: {1: 'a', 2: 'b', 3: 'c'}\n",
        "\n",
        "\n",
        "# Sample data as a Python dictionary\n",
        "bash_exam_data = swapped_dict\n",
        "\n",
        "\n",
        "insert_exam(\"testing_exam\",{\"quest\":\"ans\"})\n",
        "################################################\n",
        "\n",
        "# Read the data from the 'bash' table in the 'exams.db' database and store it in a Python dictionary\n",
        "def read_exam(table_name):\n",
        "  return read_records_as_dict(\"exams.db\", table_name)\n",
        "exams = []\n",
        "print(\"tablenames: \", get_table_names(\"exams.db\"))\n",
        "for i in get_table_names(\"exams.db\"):\n",
        "  exams.append(Exam(read_exam(i),i))\n",
        "\n",
        "# Print the Python\n",
        "practice(exams)\n"
      ],
      "metadata": {
        "colab": {
          "base_uri": "https://localhost:8080/"
        },
        "id": "l0wXDCXjNFkn",
        "outputId": "e33bce2e-bd72-4788-8daf-4356f38b9645"
      },
      "execution_count": 2,
      "outputs": [
        {
          "output_type": "stream",
          "name": "stdout",
          "text": [
            "{'Create': 'Adding new data to a database', 'Read': 'Retrieving existing data from a database', 'Update': 'Modifying existing data in a database', 'Delete': 'Removing data from a database'}\n",
            "tablenames:  ['testing_exam']\n",
            "There are 1 exams.\n",
            "Do you want to practice testing_exam? (y/n) 1 questions.\n",
            "y\n",
            "Practicing ---testing_exam---\n",
            "---->  quest?\n",
            "? ans\n",
            "✔\n",
            "\n",
            "\n",
            "-------------------------------------------------------------------------\n",
            "Your score is: 1/1\n",
            "-------------------------------------------------------------------------\n",
            "\n"
          ]
        }
      ]
    }
  ],
  "metadata": {
    "colab": {
      "provenance": [],
      "authorship_tag": "ABX9TyPEKgsgkVhjR3q+7YTo3ZEY",
      "include_colab_link": true
    },
    "kernelspec": {
      "display_name": "Python 3",
      "name": "python3"
    },
    "language_info": {
      "name": "python"
    }
  },
  "nbformat": 4,
  "nbformat_minor": 0
}