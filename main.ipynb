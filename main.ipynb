{
  "cells": [
    {
      "cell_type": "markdown",
      "metadata": {
        "id": "view-in-github",
        "colab_type": "text"
      },
      "source": [
        "<a href=\"https://colab.research.google.com/github/GenaroHacker/skill_builder_exams/blob/main/main.ipynb\" target=\"_parent\"><img src=\"https://colab.research.google.com/assets/colab-badge.svg\" alt=\"Open In Colab\"/></a>"
      ]
    },
    {
      "cell_type": "code",
      "source": [
        "#@title import\n",
        "%%capture\n",
        "!git clone https://github.com/GenaroHacker/skill_builder_exams.git\n",
        "from skill_builder_exams.exam import Exam\n",
        "from skill_builder_exams.practice import practice\n",
        "from skill_builder_exams.example_exams import example_exams"
      ],
      "metadata": {
        "id": "4ezuSf9nHz-5",
        "cellView": "form"
      },
      "execution_count": 1,
      "outputs": []
    },
    {
      "cell_type": "code",
      "source": [
        "#@title practice\n",
        "exams = example_exams()\n",
        "practice(exams)"
      ],
      "metadata": {
        "colab": {
          "base_uri": "https://localhost:8080/"
        },
        "id": "l0wXDCXjNFkn",
        "outputId": "3ac2f5df-0dc3-4f0b-f799-6bfd72a1bdcb"
      },
      "execution_count": 2,
      "outputs": [
        {
          "output_type": "stream",
          "name": "stdout",
          "text": [
            "There are 5 exams.\n",
            "Do you want to practice OOP? (y/n) 5 questions.\n",
            "n\n",
            "Skipping ---OOP---\n",
            "Do you want to practice Python Basics? (y/n) 5 questions.\n",
            "n\n",
            "Skipping ---Python Basics---\n",
            "Do you want to practice Your title here? (y/n) 0 questions.\n",
            "y\n",
            "Practicing ---Your title here---\n",
            "Do you want to practice CRUD? (y/n) 4 questions.\n",
            "y\n",
            "Practicing ---CRUD---\n",
            "---->  Modifying existing data in a database?\n",
            "? update\n",
            "✔\n",
            "\n",
            "---->  Removing data from a database?\n",
            "? delete\n",
            "✔\n",
            "\n",
            "---->  Adding new data to a database?\n",
            "? create\n",
            "✔\n",
            "\n",
            "---->  Retrieving existing data from a database?\n",
            "? read\n",
            "✔\n",
            "\n",
            "\n",
            "-------------------------------------------------------------------------\n",
            "Your score is: 4/4\n",
            "-------------------------------------------------------------------------\n",
            "\n",
            "Do you want to practice Bash? (y/n) 5 questions.\n",
            "n\n",
            "Skipping ---Bash---\n"
          ]
        }
      ]
    }
  ],
  "metadata": {
    "colab": {
      "provenance": [],
      "authorship_tag": "ABX9TyMldvKbaTUEFH997MMLiFkY",
      "include_colab_link": true
    },
    "kernelspec": {
      "display_name": "Python 3",
      "name": "python3"
    },
    "language_info": {
      "name": "python"
    }
  },
  "nbformat": 4,
  "nbformat_minor": 0
}