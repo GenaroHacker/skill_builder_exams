{
  "cells": [
    {
      "cell_type": "markdown",
      "metadata": {
        "id": "view-in-github",
        "colab_type": "text"
      },
      "source": [
        "<a href=\"https://colab.research.google.com/github/GenaroHacker/skill_builder_exams/blob/main/skill_builder_exams.ipynb\" target=\"_parent\"><img src=\"https://colab.research.google.com/assets/colab-badge.svg\" alt=\"Open In Colab\"/></a>"
      ]
    },
    {
      "cell_type": "code",
      "execution_count": null,
      "metadata": {
        "id": "vTW8k1VuYp7I"
      },
      "outputs": [],
      "source": [
        "d = {\"Prints the current working directory\": \"pwd\", \"Lists the contents of a directory\": \"ls\", \"Changes the current directory\": \"cd\", \"Creates an empty file\": \"touch\", \"Displays the contents of a file\": \"cat\"}\n"
      ]
    },
    {
      "cell_type": "code",
      "source": [
        "import random\n",
        "\n",
        "def practice_row(d):\n",
        "    while d != {}:\n",
        "        # Extract a list of keys:\n",
        "        key_list = list(d.keys())\n",
        "\n",
        "        # Randomize the order of the keys:\n",
        "        random.shuffle(key_list)\n",
        "\n",
        "        score = 0\n",
        "        max_score = len(key_list)\n",
        "        for key in key_list:\n",
        "            print(\"---->  \" + key + \"?\")\n",
        "            answer = input(\"? \")\n",
        "            if answer.upper() == d[key].upper():\n",
        "                print(\"✔\")\n",
        "                print(\"\")\n",
        "                score += 1\n",
        "                d.pop(key)\n",
        "            else:\n",
        "                print(\"✘\")\n",
        "                print(\"The correct answer is --> \", (d[key]).upper())\n",
        "                print(\"---->  \" + key)\n",
        "                answer = input(\"? \")\n",
        "                while answer.upper() != d[key].upper():\n",
        "                    print(\"---->  \" + key)\n",
        "                    answer = input(\"? \")\n",
        "                print(\"\")\n",
        "\n",
        "        print(\"\")       \n",
        "        print(\"-------------------------------------------------------------------------\")\n",
        "        print(\"Your score is: \" + str(score) + \"/\" + str(max_score))\n",
        "        print(\"-------------------------------------------------------------------------\")\n",
        "        print(\"\")\n",
        "\n",
        "practice_row(d)\n"
      ],
      "metadata": {
        "colab": {
          "base_uri": "https://localhost:8080/"
        },
        "id": "8tctAok21Z8w",
        "outputId": "374ea7a8-b9c3-4884-af01-a31c0c843a1b"
      },
      "execution_count": null,
      "outputs": [
        {
          "output_type": "stream",
          "name": "stdout",
          "text": [
            "---->  Creates an empty file?\n",
            "? touch\n",
            "✔\n",
            "\n",
            "---->  Lists the contents of a directory?\n",
            "? ls\n",
            "✔\n",
            "\n",
            "---->  Changes the current directory?\n",
            "? cd\n",
            "✔\n",
            "\n",
            "---->  Displays the contents of a file?\n",
            "? cat\n",
            "✔\n",
            "\n",
            "---->  Prints the current working directory?\n",
            "? pwd\n",
            "✔\n",
            "\n",
            "\n",
            "-------------------------------------------------------------------------\n",
            "Your score is: 5/5\n",
            "-------------------------------------------------------------------------\n",
            "\n"
          ]
        }
      ]
    }
  ],
  "metadata": {
    "colab": {
      "provenance": [],
      "authorship_tag": "ABX9TyPkYalxmOwv8U5r4jmLFMSe",
      "include_colab_link": true
    },
    "kernelspec": {
      "display_name": "Python 3",
      "name": "python3"
    },
    "language_info": {
      "name": "python"
    }
  },
  "nbformat": 4,
  "nbformat_minor": 0
}