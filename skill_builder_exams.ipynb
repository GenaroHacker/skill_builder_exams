{
  "cells": [
    {
      "cell_type": "markdown",
      "metadata": {
        "id": "view-in-github",
        "colab_type": "text"
      },
      "source": [
        "<a href=\"https://colab.research.google.com/github/GenaroHacker/skill_builder_exams/blob/main/skill_builder_exams.ipynb\" target=\"_parent\"><img src=\"https://colab.research.google.com/assets/colab-badge.svg\" alt=\"Open In Colab\"/></a>"
      ]
    },
    {
      "cell_type": "code",
      "execution_count": 18,
      "metadata": {
        "id": "vTW8k1VuYp7I",
        "colab": {
          "base_uri": "https://localhost:8080/"
        },
        "outputId": "88ff5ab3-0dfb-44aa-d72f-891bb207b3a7"
      },
      "outputs": [
        {
          "output_type": "stream",
          "name": "stdout",
          "text": [
            "There are 3 exams.\n"
          ]
        }
      ],
      "source": [
        "\n",
        "\n",
        "exams = []\n",
        "\n",
        "#exam one\n",
        "new_exam = {\"Prints the current working directory\": \"pwd\", \"Lists the contents of a directory\": \"ls\", \"Changes the current directory\": \"cd\", \"Creates an empty file\": \"touch\", \"Displays the contents of a file\": \"cat\"}\n",
        "exams.append(new_exam)\n",
        "\n",
        "#exam two\n",
        "new_exam = {}\n",
        "exams.append(new_exam)\n",
        "\n",
        "#your exam\n",
        "new_exam = {}\n",
        "exams.append(new_exam)\n",
        "\n",
        "\n",
        "\n",
        "\n",
        "\n",
        "\n",
        "print(\"There are \" + str(len(exams)) + \" exams.\")\n"
      ]
    },
    {
      "cell_type": "code",
      "source": [
        "import random\n",
        "\n",
        "def practice_row(d):\n",
        "    while d != {}:\n",
        "        # Extract a list of keys:\n",
        "        key_list = list(d.keys())\n",
        "\n",
        "        # Randomize the order of the keys:\n",
        "        random.shuffle(key_list)\n",
        "\n",
        "        score = 0\n",
        "        max_score = len(key_list)\n",
        "        for key in key_list:\n",
        "            print(\"---->  \" + key + \"?\")\n",
        "            answer = input(\"? \")\n",
        "            if answer.upper() == d[key].upper():\n",
        "                print(\"✔\")\n",
        "                print(\"\")\n",
        "                score += 1\n",
        "                d.pop(key)\n",
        "            else:\n",
        "                print(\"✘\")\n",
        "                print(\"The correct answer is --> \", (d[key]).upper())\n",
        "                print(\"---->  \" + key)\n",
        "                answer = input(\"? \")\n",
        "                while answer.upper() != d[key].upper():\n",
        "                    print(\"---->  \" + key)\n",
        "                    answer = input(\"? \")\n",
        "                print(\"\")\n",
        "\n",
        "        print(\"\")       \n",
        "        print(\"-------------------------------------------------------------------------\")\n",
        "        print(\"Your score is: \" + str(score) + \"/\" + str(max_score))\n",
        "        print(\"-------------------------------------------------------------------------\")\n",
        "        print(\"\")\n",
        "\n",
        "\n",
        "\n"
      ],
      "metadata": {
        "id": "8tctAok21Z8w"
      },
      "execution_count": 21,
      "outputs": []
    },
    {
      "cell_type": "code",
      "source": [
        "for exam in exams:\n",
        "  practice_row(exam)"
      ],
      "metadata": {
        "colab": {
          "base_uri": "https://localhost:8080/"
        },
        "id": "XB54hbxGG3CH",
        "outputId": "9966cbcb-f61d-45ce-e655-18c487b6f028"
      },
      "execution_count": 22,
      "outputs": [
        {
          "output_type": "stream",
          "name": "stdout",
          "text": [
            "---->  Displays the contents of a file?\n",
            "? cat\n",
            "✔\n",
            "\n",
            "---->  Changes the current directory?\n",
            "? cd\n",
            "✔\n",
            "\n",
            "---->  Creates an empty file?\n",
            "? touch\n",
            "✔\n",
            "\n",
            "---->  Prints the current working directory?\n",
            "? pwd\n",
            "✔\n",
            "\n",
            "---->  Lists the contents of a directory?\n",
            "? ls\n",
            "✔\n",
            "\n",
            "\n",
            "-------------------------------------------------------------------------\n",
            "Your score is: 5/5\n",
            "-------------------------------------------------------------------------\n",
            "\n"
          ]
        }
      ]
    }
  ],
  "metadata": {
    "colab": {
      "provenance": [],
      "authorship_tag": "ABX9TyMYJjeg2Vbyu2j1+sQFxFAg",
      "include_colab_link": true
    },
    "kernelspec": {
      "display_name": "Python 3",
      "name": "python3"
    },
    "language_info": {
      "name": "python"
    }
  },
  "nbformat": 4,
  "nbformat_minor": 0
}