{
  "cells": [
    {
      "cell_type": "markdown",
      "metadata": {
        "id": "view-in-github",
        "colab_type": "text"
      },
      "source": [
        "<a href=\"https://colab.research.google.com/github/GenaroHacker/skill_builder_exams/blob/main/skill_builder_exams.ipynb\" target=\"_parent\"><img src=\"https://colab.research.google.com/assets/colab-badge.svg\" alt=\"Open In Colab\"/></a>"
      ]
    },
    {
      "cell_type": "code",
      "source": [
        "!git clone https://github.com/GenaroHacker/skill_builder_exams.git"
      ],
      "metadata": {
        "id": "C6_VzASOHAR_",
        "outputId": "72243f06-4dc1-4501-fda0-db15afda5127",
        "colab": {
          "base_uri": "https://localhost:8080/"
        }
      },
      "execution_count": 1,
      "outputs": [
        {
          "output_type": "stream",
          "name": "stdout",
          "text": [
            "Cloning into 'skill_builder_exams'...\n",
            "remote: Enumerating objects: 22, done.\u001b[K\n",
            "remote: Counting objects: 100% (22/22), done.\u001b[K\n",
            "remote: Compressing objects: 100% (18/18), done.\u001b[K\n",
            "remote: Total 22 (delta 6), reused 6 (delta 0), pack-reused 0\u001b[K\n",
            "Unpacking objects: 100% (22/22), 6.41 KiB | 819.00 KiB/s, done.\n"
          ]
        }
      ]
    },
    {
      "cell_type": "code",
      "source": [
        "import random\n",
        "\n",
        "class Exam:\n",
        "    def __init__(self, question_answer_dict, exam_description):\n",
        "        self.question_answer_dict = question_answer_dict\n",
        "        self.exam_description = exam_description\n",
        "\n",
        "    def practice_row(self):\n",
        "        d = self.question_answer_dict\n",
        "        while d != {}:\n",
        "            # Extract a list of keys:\n",
        "            key_list = list(d.keys())\n",
        "\n",
        "            # Randomize the order of the keys:\n",
        "            random.shuffle(key_list)\n",
        "\n",
        "            score = 0\n",
        "            max_score = len(key_list)\n",
        "            for key in key_list:\n",
        "                print(\"---->  \" + key + \"?\")\n",
        "                answer = input(\"? \")\n",
        "                if answer.upper() == d[key].upper():\n",
        "                    print(\"✔\")\n",
        "                    print(\"\")\n",
        "                    score += 1\n",
        "                    d.pop(key)\n",
        "                else:\n",
        "                    print(\"✘\")\n",
        "                    print(\"The correct answer is --> \", (d[key]).upper())\n",
        "                    print(\"---->  \" + key)\n",
        "                    answer = input(\"? \")\n",
        "                    while answer.upper() != d[key].upper():\n",
        "                        print(\"---->  \" + key)\n",
        "                        answer = input(\"? \")\n",
        "                    print(\"\")\n",
        "\n",
        "            print(\"\")       \n",
        "            print(\"-------------------------------------------------------------------------\")\n",
        "            print(\"Your score is: \" + str(score) + \"/\" + str(max_score))\n",
        "            print(\"-------------------------------------------------------------------------\")\n",
        "            print(\"\")\n",
        "\n",
        "# Create the exams\n",
        "exams = [\n",
        "    Exam(\n",
        "        {\"Prints the current working directory\": \"pwd\", \"Lists the contents of a directory\": \"ls\", \"Changes the current directory\": \"cd\", \"Creates an empty file\": \"touch\", \"Displays the contents of a file\": \"cat\"},\n",
        "        \"Exam bash\"\n",
        "    ),\n",
        "    Exam({}, \"Exam empty\"),\n",
        "    Exam({}, \"Your untitled emty Exam\")\n",
        "]\n",
        "\n",
        "print(\"There are \" + str(len(exams)) + \" exams.\")\n",
        "\n",
        "# Practice for each exam\n",
        "for exam in exams:\n",
        "    print(\"Practicing ---\" + exam.exam_description + \"---\")\n",
        "    exam.practice_row()\n"
      ],
      "metadata": {
        "colab": {
          "base_uri": "https://localhost:8080/"
        },
        "id": "l0wXDCXjNFkn",
        "outputId": "348777c5-e9cd-4c7f-c899-56563fd69fc2"
      },
      "execution_count": null,
      "outputs": [
        {
          "output_type": "stream",
          "name": "stdout",
          "text": [
            "There are 3 exams.\n",
            "Practicing ---Exam bash---\n",
            "---->  Displays the contents of a file?\n"
          ]
        }
      ]
    }
  ],
  "metadata": {
    "colab": {
      "provenance": [],
      "authorship_tag": "ABX9TyPbVcQDIj1/z8fagVAYBOy8",
      "include_colab_link": true
    },
    "kernelspec": {
      "display_name": "Python 3",
      "name": "python3"
    },
    "language_info": {
      "name": "python"
    }
  },
  "nbformat": 4,
  "nbformat_minor": 0
}