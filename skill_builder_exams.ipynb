{
  "cells": [
    {
      "cell_type": "markdown",
      "metadata": {
        "id": "view-in-github",
        "colab_type": "text"
      },
      "source": [
        "<a href=\"https://colab.research.google.com/github/GenaroHacker/skill_builder_exams/blob/main/skill_builder_exams.ipynb\" target=\"_parent\"><img src=\"https://colab.research.google.com/assets/colab-badge.svg\" alt=\"Open In Colab\"/></a>"
      ]
    },
    {
      "cell_type": "code",
      "source": [
        "!git clone https://github.com/GenaroHacker/skill_builder_exams.git"
      ],
      "metadata": {
        "id": "4ezuSf9nHz-5",
        "colab": {
          "base_uri": "https://localhost:8080/"
        },
        "outputId": "ca453e0c-3bdc-42ac-e3bd-2b7cf40adcad"
      },
      "execution_count": null,
      "outputs": [
        {
          "output_type": "stream",
          "name": "stdout",
          "text": [
            "Cloning into 'skill_builder_exams'...\n",
            "remote: Enumerating objects: 31, done.\u001b[K\n",
            "remote: Counting objects: 100% (31/31), done.\u001b[K\n",
            "remote: Compressing objects: 100% (27/27), done.\u001b[K\n",
            "remote: Total 31 (delta 10), reused 6 (delta 0), pack-reused 0\u001b[K\n",
            "Unpacking objects: 100% (31/31), 8.29 KiB | 771.00 KiB/s, done.\n"
          ]
        }
      ]
    },
    {
      "cell_type": "code",
      "source": [
        "from skill_builder_exams.exam import Exam\n",
        "\n",
        "\n",
        "# Create the exams\n",
        "exams = [\n",
        "    Exam(\n",
        "        {\"Prints the current working directory\": \"pwd\", \"Lists the contents of a directory\": \"ls\", \"Changes the current directory\": \"cd\", \"Creates an empty file\": \"touch\", \"Displays the contents of a file\": \"cat\"},\n",
        "        \"Exam bash\"\n",
        "    ),\n",
        "    Exam({}, \"Exam empty\"),\n",
        "    Exam({}, \"Your untitled empty Exam\")\n",
        "]\n",
        "\n",
        "print(\"There are \" + str(len(exams)) + \" exams.\")\n",
        "\n",
        "\n",
        "# Ask the user if they want to practice each exam\n",
        "for exam in exams:\n",
        "    response = input(\"Do you want to practice \" + exam.exam_description + \"? (y/n) \")\n",
        "    if response.lower() == \"y\":\n",
        "        print(\"Practicing ---\" + exam.exam_description + \"---\")\n",
        "        exam.practice_row()\n",
        "    else:\n",
        "        print(\"Skipping ---\" + exam.exam_description + \"---\")\n",
        "\n"
      ],
      "metadata": {
        "colab": {
          "base_uri": "https://localhost:8080/"
        },
        "id": "l0wXDCXjNFkn",
        "outputId": "ff9c235a-48b8-414c-ce2f-63cedd511e9e"
      },
      "execution_count": null,
      "outputs": [
        {
          "output_type": "stream",
          "name": "stdout",
          "text": [
            "There are 3 exams.\n",
            "Do you want to practice Exam bash? (y/n) y\n",
            "Practicing ---Exam bash---\n",
            "---->  Prints the current working directory?\n",
            "? pwd\n",
            "✔\n",
            "\n",
            "---->  Creates an empty file?\n",
            "? touch\n",
            "✔\n",
            "\n",
            "---->  Displays the contents of a file?\n",
            "? cat\n",
            "✔\n",
            "\n",
            "---->  Lists the contents of a directory?\n",
            "? ls\n",
            "✔\n",
            "\n",
            "---->  Changes the current directory?\n",
            "? cd\n",
            "✔\n",
            "\n",
            "\n",
            "-------------------------------------------------------------------------\n",
            "Your score is: 5/5\n",
            "-------------------------------------------------------------------------\n",
            "\n",
            "Do you want to practice Exam empty? (y/n) y\n",
            "Practicing ---Exam empty---\n",
            "Do you want to practice Your untitled emty Exam? (y/n) y\n",
            "Practicing ---Your untitled emty Exam---\n"
          ]
        }
      ]
    }
  ],
  "metadata": {
    "colab": {
      "provenance": [],
      "authorship_tag": "ABX9TyOInTAzmpzCYi0gUTgpn3ac",
      "include_colab_link": true
    },
    "kernelspec": {
      "display_name": "Python 3",
      "name": "python3"
    },
    "language_info": {
      "name": "python"
    }
  },
  "nbformat": 4,
  "nbformat_minor": 0
}