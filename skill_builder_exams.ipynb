{
  "cells": [
    {
      "cell_type": "markdown",
      "metadata": {
        "id": "view-in-github",
        "colab_type": "text"
      },
      "source": [
        "<a href=\"https://colab.research.google.com/github/GenaroHacker/skill_builder_exams/blob/main/skill_builder_exams.ipynb\" target=\"_parent\"><img src=\"https://colab.research.google.com/assets/colab-badge.svg\" alt=\"Open In Colab\"/></a>"
      ]
    },
    {
      "cell_type": "code",
      "source": [
        "!git clone https://github.com/GenaroHacker/skill_builder_exams.git"
      ],
      "metadata": {
        "id": "4ezuSf9nHz-5"
      },
      "execution_count": null,
      "outputs": []
    },
    {
      "cell_type": "code",
      "source": [
        "import random\n",
        "\n",
        "class Exam:\n",
        "    def __init__(self, question_answer_dict, exam_description):\n",
        "        self.question_answer_dict = question_answer_dict\n",
        "        self.exam_description = exam_description\n",
        "\n",
        "    def practice_row(self):\n",
        "        d = self.question_answer_dict\n",
        "        while d != {}:\n",
        "            # Extract a list of keys:\n",
        "            key_list = list(d.keys())\n",
        "\n",
        "            # Randomize the order of the keys:\n",
        "            random.shuffle(key_list)\n",
        "\n",
        "            score = 0\n",
        "            max_score = len(key_list)\n",
        "            for key in key_list:\n",
        "                print(\"---->  \" + key + \"?\")\n",
        "                answer = input(\"? \")\n",
        "                if answer.upper() == d[key].upper():\n",
        "                    print(\"✔\")\n",
        "                    print(\"\")\n",
        "                    score += 1\n",
        "                    d.pop(key)\n",
        "                else:\n",
        "                    print(\"✘\")\n",
        "                    print(\"The correct answer is --> \", (d[key]).upper())\n",
        "                    print(\"---->  \" + key)\n",
        "                    answer = input(\"? \")\n",
        "                    while answer.upper() != d[key].upper():\n",
        "                        print(\"---->  \" + key)\n",
        "                        answer = input(\"? \")\n",
        "                    print(\"\")\n",
        "\n",
        "            print(\"\")       \n",
        "            print(\"-------------------------------------------------------------------------\")\n",
        "            print(\"Your score is: \" + str(score) + \"/\" + str(max_score))\n",
        "            print(\"-------------------------------------------------------------------------\")\n",
        "            print(\"\")\n",
        "\n",
        "# Create the exams\n",
        "exams = [\n",
        "    Exam(\n",
        "        {\"Prints the current working directory\": \"pwd\", \"Lists the contents of a directory\": \"ls\", \"Changes the current directory\": \"cd\", \"Creates an empty file\": \"touch\", \"Displays the contents of a file\": \"cat\"},\n",
        "        \"Exam bash\"\n",
        "    ),\n",
        "    Exam({}, \"Exam empty\"),\n",
        "    Exam({}, \"Your untitled emty Exam\")\n",
        "]\n",
        "\n",
        "print(\"There are \" + str(len(exams)) + \" exams.\")\n",
        "\n",
        "# Practice for each exam\n",
        "for exam in exams:\n",
        "    print(\"Practicing ---\" + exam.exam_description + \"---\")\n",
        "    exam.practice_row()\n"
      ],
      "metadata": {
        "colab": {
          "base_uri": "https://localhost:8080/"
        },
        "id": "l0wXDCXjNFkn",
        "outputId": "7287c1d8-758d-4219-ad2d-d96f0a6f97cb"
      },
      "execution_count": null,
      "outputs": [
        {
          "output_type": "stream",
          "name": "stdout",
          "text": [
            "There are 3 exams.\n",
            "Practicing ---Exam bash---\n",
            "---->  Changes the current directory?\n",
            "? cd\n",
            "✔\n",
            "\n",
            "---->  Creates an empty file?\n",
            "? touch\n",
            "✔\n",
            "\n",
            "---->  Lists the contents of a directory?\n",
            "? ls\n",
            "✔\n",
            "\n",
            "---->  Prints the current working directory?\n",
            "? pwd\n",
            "✔\n",
            "\n",
            "---->  Displays the contents of a file?\n",
            "? cat\n",
            "✔\n",
            "\n",
            "\n",
            "-------------------------------------------------------------------------\n",
            "Your score is: 5/5\n",
            "-------------------------------------------------------------------------\n",
            "\n",
            "Practicing ---Exam empty---\n",
            "Practicing ---Your untitled emty Exam---\n"
          ]
        }
      ]
    }
  ],
  "metadata": {
    "colab": {
      "provenance": [],
      "authorship_tag": "ABX9TyPbVcQDIj1/z8fagVAYBOy8",
      "include_colab_link": true
    },
    "kernelspec": {
      "display_name": "Python 3",
      "name": "python3"
    },
    "language_info": {
      "name": "python"
    }
  },
  "nbformat": 4,
  "nbformat_minor": 0
}